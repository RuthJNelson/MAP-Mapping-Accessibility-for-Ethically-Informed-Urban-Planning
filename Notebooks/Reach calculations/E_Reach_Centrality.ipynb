{
 "cells": [
  {
   "cell_type": "markdown",
   "id": "13c945a2",
   "metadata": {},
   "source": [
    "## Notebook E: Calculating Neighbourhood Reach Centrality\n",
    "**TU Delft**<br>\n",
    "**Author:** Ruth Nelson <br>"
   ]
  },
  {
   "cell_type": "markdown",
   "id": "085ece8c",
   "metadata": {},
   "source": [
    "The purpose of this notebook is to calculate the Neighbourhood Reach Centrality for every neighbourhood."
   ]
  },
  {
   "cell_type": "markdown",
   "id": "d9146084",
   "metadata": {},
   "source": [
    "1. Import libraries\n",
    "2. Import dataframes\n",
    "3. Create a NetworkX graph\n",
    "4. Preparing network for Reach Centrality calculations\n",
    "5. Calculate Reach Centrality\n",
    "6. Save files"
   ]
  },
  {
   "cell_type": "markdown",
   "id": "ced5bc89",
   "metadata": {},
   "source": [
    "## 1. Import "
   ]
  },
  {
   "cell_type": "code",
   "execution_count": null,
   "id": "89329ed0",
   "metadata": {},
   "outputs": [],
   "source": [
    "import geopandas as gpd\n",
    "import pandas as pd\n",
    "import networkx as nx\n",
    "import os\n",
    "import glob"
   ]
  },
  {
   "cell_type": "markdown",
   "id": "aa65ca95",
   "metadata": {},
   "source": [
    "## 2. Import Library"
   ]
  },
  {
   "cell_type": "markdown",
   "id": "dfbeca47",
   "metadata": {},
   "source": [
    "Import the Spatial Justice Module with the Neighbourhood Reach function"
   ]
  },
  {
   "cell_type": "code",
   "execution_count": null,
   "id": "7a763f9e",
   "metadata": {},
   "outputs": [],
   "source": [
    "path_lib = \" \""
   ]
  },
  {
   "cell_type": "code",
   "execution_count": null,
   "id": "475005c8",
   "metadata": {},
   "outputs": [],
   "source": [
    "os.chdir(path_lib)\n",
    "for file in glob.glob(\"*\"):\n",
    "    print(file)"
   ]
  },
  {
   "cell_type": "code",
   "execution_count": null,
   "id": "9f99d08c",
   "metadata": {},
   "outputs": [],
   "source": [
    "import spatial_justice as sj\n",
    "\n",
    "pd.set_option('display.width', 500)\n",
    "pd.set_option('display.max_columns', None)\n",
    "#pd.set_option('display.notebook_repr_html', True)"
   ]
  },
  {
   "cell_type": "markdown",
   "id": "86911684",
   "metadata": {},
   "source": [
    "### Import the dataframes"
   ]
  },
  {
   "cell_type": "code",
   "execution_count": null,
   "id": "425e656e",
   "metadata": {},
   "outputs": [],
   "source": [
    "path_edges = \"\""
   ]
  },
  {
   "cell_type": "code",
   "execution_count": null,
   "id": "d133ee76",
   "metadata": {},
   "outputs": [],
   "source": [
    "os.chdir(path_edges)\n",
    "for file in glob.glob(\"*\"):\n",
    "    print(file)"
   ]
  },
  {
   "cell_type": "code",
   "execution_count": null,
   "id": "24c5d67d",
   "metadata": {},
   "outputs": [],
   "source": [
    "edges_network  = gpd.read_file('edges_d.shp')"
   ]
  },
  {
   "cell_type": "code",
   "execution_count": null,
   "id": "6261deaf",
   "metadata": {},
   "outputs": [],
   "source": [
    "path_vertices = \"\""
   ]
  },
  {
   "cell_type": "code",
   "execution_count": null,
   "id": "b29cd6d2",
   "metadata": {},
   "outputs": [],
   "source": [
    "os.chdir(path_vertices)\n",
    "for file in glob.glob(\"*\"):\n",
    "    print(file)"
   ]
  },
  {
   "cell_type": "code",
   "execution_count": null,
   "id": "dbfc58cb",
   "metadata": {},
   "outputs": [],
   "source": [
    "vertices_network  = gpd.read_file('vertices_c.shp')"
   ]
  },
  {
   "cell_type": "code",
   "execution_count": null,
   "id": "803ac40b",
   "metadata": {},
   "outputs": [],
   "source": [
    "path_neighb = \"\""
   ]
  },
  {
   "cell_type": "code",
   "execution_count": null,
   "id": "a0d27fb7",
   "metadata": {},
   "outputs": [],
   "source": [
    "os.chdir(path_neighb)\n",
    "for file in glob.glob(\"*\"):\n",
    "    print(file)"
   ]
  },
  {
   "cell_type": "code",
   "execution_count": null,
   "id": "7775b337",
   "metadata": {},
   "outputs": [],
   "source": [
    "#import a file containing the neighbourhood polygon geometries and names\n",
    "Neighbourhoo_geo = gpd.read_file('Neighbourhoods.shp')"
   ]
  },
  {
   "cell_type": "code",
   "execution_count": null,
   "id": "5dde3129",
   "metadata": {},
   "outputs": [],
   "source": [
    "Neighbourhoo_geo.head()"
   ]
  },
  {
   "cell_type": "code",
   "execution_count": null,
   "id": "b2a499a7",
   "metadata": {},
   "outputs": [],
   "source": [
    "#change crs to required crs\n",
    "vertices_network = vertices_network.to_crs(4326)\n",
    "edges_network = edges_network.set_crs(3857)\n",
    "edges_network = edges_network.to_crs(4326)\n",
    "Neighbourhoo_geo = Neighbourhoo_geo.set_crs(4326)\n",
    "Neighbourhoo_geo = Neighbourhoo_geo.to_crs(4326)"
   ]
  },
  {
   "cell_type": "code",
   "execution_count": null,
   "id": "1b588656",
   "metadata": {},
   "outputs": [],
   "source": [
    "#create x and y coordinates from geometry of vertices\n",
    "vertices_network['x'] = vertices_network['geometry'].x\n",
    "vertices_network['y'] = vertices_network['geometry'].y"
   ]
  },
  {
   "cell_type": "markdown",
   "id": "9e23b576",
   "metadata": {},
   "source": [
    "## Add the neighbourhood names as an attribute to the vertices"
   ]
  },
  {
   "cell_type": "code",
   "execution_count": null,
   "id": "e260115e",
   "metadata": {},
   "outputs": [],
   "source": [
    "Neighb_names = Neighbourhoo_geo[['SP_NAME', 'geometry']]"
   ]
  },
  {
   "cell_type": "code",
   "execution_count": null,
   "id": "af6b8da9",
   "metadata": {},
   "outputs": [],
   "source": [
    "# Perform spatial join\n",
    "# This assigns the neighborhood attributes to points\n",
    "vertices_network2 = gpd.sjoin(vertices_network, Neighb_names, how='left', predicate='within')"
   ]
  },
  {
   "cell_type": "code",
   "execution_count": null,
   "id": "f7e57783",
   "metadata": {},
   "outputs": [],
   "source": [
    "vertices_network2 #the vertices that do not fall in any neighbourhoods and do not matter"
   ]
  },
  {
   "cell_type": "code",
   "execution_count": null,
   "id": "c6f1f13b",
   "metadata": {},
   "outputs": [],
   "source": [
    "vertices_network2.columns"
   ]
  },
  {
   "cell_type": "code",
   "execution_count": null,
   "id": "e1d3dee0",
   "metadata": {},
   "outputs": [],
   "source": [
    "vertices_network2 = vertices_network2[['SP_NAME','land use', 'vertex_typ', 'x', 'y', 'id', 'geometry']]"
   ]
  },
  {
   "cell_type": "markdown",
   "id": "d1431341",
   "metadata": {},
   "source": [
    "## 3. Create a graph in network x from these dataframes\n",
    "\n",
    "We create a graph of the edges and vertices in NetworkX so that we can calculate Reach Centrality. We create a directed graph because some streets and transport edges have specific directions of travel and varying weights depending on the direction of travel."
   ]
  },
  {
   "cell_type": "markdown",
   "id": "b06b9a8f",
   "metadata": {},
   "source": [
    "**1. Creating a directed graph**"
   ]
  },
  {
   "cell_type": "code",
   "execution_count": null,
   "id": "a6a19baa",
   "metadata": {},
   "outputs": [],
   "source": [
    "#create a directed graph \n",
    "G4 = nx.DiGraph()"
   ]
  },
  {
   "cell_type": "code",
   "execution_count": null,
   "id": "4aa7b9b4",
   "metadata": {},
   "outputs": [],
   "source": [
    "edges_network"
   ]
  },
  {
   "cell_type": "code",
   "execution_count": null,
   "id": "442f79d9",
   "metadata": {},
   "outputs": [],
   "source": [
    "##adding the edges \n",
    "\n",
    "for index, row in edges_network.iterrows():\n",
    "    source = row['source']\n",
    "    target = row['target']\n",
    "    time_cost = row['time_cost']\n",
    "    length = row['Length']\n",
    "    edge_type = row['edge_type']\n",
    "    ID = row['id']\n",
    "    vertex_type = row['vertex_typ']\n",
    "    geometry = row['geometry']\n",
    "    G4.add_edge(source, target, time_cost=time_cost, length=length, edge_type= edge_type, \n",
    "                 ID = ID, vertex_type = vertex_type, geometry=geometry)"
   ]
  },
  {
   "cell_type": "code",
   "execution_count": null,
   "id": "e4194706",
   "metadata": {},
   "outputs": [],
   "source": [
    "## adding the vertices\n",
    "\n",
    "for index, row in vertices_network2.iterrows():\n",
    "    # Extract the attributes from the dataframe row\n",
    "    vertex_id = row['id']\n",
    "    landuse = row['land use']\n",
    "    neighbourhood = row['SP_NAME']\n",
    "    vertex_type = row['vertex_typ']\n",
    "    pos =(row['x'], row['y'])\n",
    "    \n",
    "    # Add the vertex to the graph with attributes\n",
    "    G4.add_node(vertex_id, landuse=landuse, vertex_type = vertex_type, neighbourhood = neighbourhood,pos=pos)"
   ]
  },
  {
   "cell_type": "code",
   "execution_count": null,
   "id": "399261f6",
   "metadata": {},
   "outputs": [],
   "source": [
    "#check their length\n",
    "len(G4.nodes)"
   ]
  },
  {
   "cell_type": "markdown",
   "id": "c21b39a3",
   "metadata": {},
   "source": [
    "**2. Deleting vertices with no geometry, this might have occurred through edges that were included but the vertices were not in neighbourhods which are in the metropolitan area**"
   ]
  },
  {
   "cell_type": "code",
   "execution_count": null,
   "id": "969accda",
   "metadata": {},
   "outputs": [],
   "source": [
    "# create for loop to delete vertices that have no geometry\n",
    "\n",
    "vertices_to_delete = []\n",
    "for vertex in G4.nodes:\n",
    "    if 'pos' not in G4.nodes[vertex]:\n",
    "        vertices_to_delete.append(vertex)"
   ]
  },
  {
   "cell_type": "code",
   "execution_count": null,
   "id": "915c3049",
   "metadata": {},
   "outputs": [],
   "source": [
    "# Delete vertices that have no geometry\n",
    "G4.remove_nodes_from(vertices_to_delete)\n",
    "\n",
    "len(G4.nodes)"
   ]
  },
  {
   "cell_type": "markdown",
   "id": "4453996b",
   "metadata": {},
   "source": [
    "## 4. Preparing the Graph for Neighbourhood Reach Centrality\n",
    "\n",
    "In this section:\n",
    "\n",
    "- 1. Define the target vertices\n",
    "- 2. Define the source attribute\n",
    "- 3. Create the target vertices\n",
    "- 4. Group the vertices by neighbourhood\n"
   ]
  },
  {
   "cell_type": "markdown",
   "id": "d8740f9a",
   "metadata": {},
   "source": [
    "#### 1. Define the target vertices"
   ]
  },
  {
   "cell_type": "code",
   "execution_count": null,
   "id": "201751e5",
   "metadata": {},
   "outputs": [],
   "source": [
    "#Creating a list of the target attributes, which is the land use types, this would be all land use types you \n",
    "#are interested in calculating access for\n",
    "TARGET_ATTRIBUTES = ['General Business 1',\n",
    " 'General Business 2',\n",
    " 'General Business 3',\n",
    " 'General Business 4',\n",
    " 'General Business 5',\n",
    " 'General Business 6',\n",
    " 'General Business 7',\n",
    "'Local Business 1 : Intermediate Business',\n",
    " 'Local Business 2 : Local Business',\n",
    "'Mixed Use 1',\n",
    " 'Mixed Use 2',\n",
    " 'Mixed Use 3',\n",
    "'General Industrial 1',\n",
    " 'General Industrial 2']"
   ]
  },
  {
   "cell_type": "markdown",
   "id": "e5950a40",
   "metadata": {},
   "source": [
    "#### 2. Define the source attribute"
   ]
  },
  {
   "cell_type": "code",
   "execution_count": null,
   "id": "1f2699d0",
   "metadata": {},
   "outputs": [],
   "source": [
    "#The major source attribute of a vertex is that it must be a street\n",
    "source_attribute = 'street'"
   ]
  },
  {
   "cell_type": "markdown",
   "id": "c9de0ff8",
   "metadata": {},
   "source": [
    "**3. Create the Target vertices**"
   ]
  },
  {
   "cell_type": "code",
   "execution_count": null,
   "id": "4ba9fd47",
   "metadata": {},
   "outputs": [],
   "source": [
    "#Create Target vertices\n",
    "\n",
    "target_attribute = TARGET_ATTRIBUTES\n",
    "\n",
    "target_vertices = []\n",
    "\n",
    "for x in target_attribute:\n",
    "    targets = [vertex for vertex, attr in G4.nodes(data=True) if attr.get('landuse') == x]\n",
    "    for y in targets:\n",
    "        target_vertices.append(y)"
   ]
  },
  {
   "cell_type": "code",
   "execution_count": null,
   "id": "4f0d16c7",
   "metadata": {},
   "outputs": [],
   "source": [
    "target_vertices"
   ]
  },
  {
   "cell_type": "markdown",
   "id": "45ba1d8d",
   "metadata": {},
   "source": [
    "#### 4. Group the vertices by neighbourhood"
   ]
  },
  {
   "cell_type": "code",
   "execution_count": null,
   "id": "03073a32",
   "metadata": {},
   "outputs": [],
   "source": [
    "#Create a list of the neighbourhood names which will be used to group the vertices\n",
    "Neighbourhoods = list(vertices_network2['SP_NAME'].unique())"
   ]
  },
  {
   "cell_type": "code",
   "execution_count": null,
   "id": "d8836af1",
   "metadata": {},
   "outputs": [],
   "source": [
    "len(Neighbourhoods)"
   ]
  },
  {
   "cell_type": "code",
   "execution_count": null,
   "id": "da2b5955",
   "metadata": {},
   "outputs": [],
   "source": [
    "Neighbourhoods = [x for x in Neighbourhoods if str(x) != 'nan'] #removing nan as not relevant"
   ]
  },
  {
   "cell_type": "code",
   "execution_count": null,
   "id": "a966d174",
   "metadata": {},
   "outputs": [],
   "source": [
    "len(Neighbourhoods)"
   ]
  },
  {
   "cell_type": "code",
   "execution_count": null,
   "id": "2e478ec7",
   "metadata": {},
   "outputs": [],
   "source": [
    "#create lists of the neighbourhood vertices which will be used for the multi-source algorithm, as \n",
    "#the vertices will be grouped by neighbourhood\n",
    "\n",
    "source_vertices_lists = []\n",
    "for z in Neighbourhoods:\n",
    "    source_vertices = [vertex for vertex, attr in G4.nodes(data=True) if attr.get('vertex_type') == source_attribute and attr.get('neighbourhood') == z]\n",
    "    source_vertices_lists.append(source_vertices)"
   ]
  },
  {
   "cell_type": "code",
   "execution_count": null,
   "id": "b872581b",
   "metadata": {},
   "outputs": [],
   "source": [
    "source_vertices_lists"
   ]
  },
  {
   "cell_type": "code",
   "execution_count": null,
   "id": "cc810aef",
   "metadata": {},
   "outputs": [],
   "source": [
    "len(source_vertices_lists)"
   ]
  },
  {
   "cell_type": "code",
   "execution_count": null,
   "id": "ca7461df",
   "metadata": {},
   "outputs": [],
   "source": [
    "# Using list comprehension to filter out any empty lists\n",
    "filtered_list = [sublist for sublist in source_vertices_lists if sublist]"
   ]
  },
  {
   "cell_type": "code",
   "execution_count": null,
   "id": "2933a935",
   "metadata": {},
   "outputs": [],
   "source": [
    "len(filtered_list)"
   ]
  },
  {
   "cell_type": "code",
   "execution_count": null,
   "id": "82bbfb66",
   "metadata": {},
   "outputs": [],
   "source": [
    "len(Neighbourhoods)"
   ]
  },
  {
   "cell_type": "code",
   "execution_count": null,
   "id": "c86cae99",
   "metadata": {},
   "outputs": [],
   "source": [
    "Neighbourhoods"
   ]
  },
  {
   "cell_type": "markdown",
   "id": "77572c1c",
   "metadata": {},
   "source": [
    "## 5. Calculating the Neighbourhood Reach Centrality"
   ]
  },
  {
   "cell_type": "markdown",
   "id": "626af7d3",
   "metadata": {},
   "source": [
    "Calculating Reach:\n",
    "\n",
    "- Reach Centrality at 15 min\n",
    "- Reach Centrality at 30 min\n",
    "- Reach Centrality at 45 min\n",
    "- Reach Centrality at 60 min"
   ]
  },
  {
   "cell_type": "code",
   "execution_count": null,
   "id": "7843114e",
   "metadata": {},
   "outputs": [],
   "source": [
    "#creating the empty lists to populate with Reach values\n",
    "Reach_15 = []\n",
    "Reach_30 = []\n",
    "Reach_45 = []\n",
    "Reach_60 = []"
   ]
  },
  {
   "cell_type": "code",
   "execution_count": null,
   "id": "7d849e0f",
   "metadata": {},
   "outputs": [],
   "source": [
    "Reach_15"
   ]
  },
  {
   "cell_type": "code",
   "execution_count": null,
   "id": "586d6463",
   "metadata": {},
   "outputs": [],
   "source": [
    "help(sj.calculate_reach_centrality)"
   ]
  },
  {
   "cell_type": "code",
   "execution_count": null,
   "id": "303a95da",
   "metadata": {},
   "outputs": [],
   "source": [
    "#Reach 15\n",
    "sj.calculate_reach_centrality(G4, filtered_list, target_vertices, 15, Reach_15, \"time_cost\", 15)"
   ]
  },
  {
   "cell_type": "code",
   "execution_count": null,
   "id": "0f5b8e5b",
   "metadata": {},
   "outputs": [],
   "source": [
    "#Reach 30\n",
    "sj.calculate_reach_centrality(G4, source_vertices_lists, target_vertices, 30, Reach_30, \"time_cost\", 15)"
   ]
  },
  {
   "cell_type": "code",
   "execution_count": null,
   "id": "b353da4f",
   "metadata": {},
   "outputs": [],
   "source": [
    "#Reach 45\n",
    "sj.calculate_reach_centrality(G4, source_vertices_lists, target_vertices, 45, Reach_45, \"time_cost\", 15)"
   ]
  },
  {
   "cell_type": "code",
   "execution_count": null,
   "id": "c0769e0d",
   "metadata": {},
   "outputs": [],
   "source": [
    "#Reach 60\n",
    "sj.calculate_reach_centrality(G4, source_vertices_lists, target_vertices, 60, Reach_60, \"time_cost\", 15)"
   ]
  },
  {
   "cell_type": "markdown",
   "id": "645ae33a",
   "metadata": {},
   "source": [
    "### Create a dataframe"
   ]
  },
  {
   "cell_type": "code",
   "execution_count": null,
   "id": "cf958b50",
   "metadata": {},
   "outputs": [],
   "source": [
    "Reach = pd.DataFrame({\n",
    "    'SP_NAME': Neighbourhoods,\n",
    "    'reach_15': Reach_15,\n",
    "    'reach_30': Reach_30,\n",
    "    'reach_45': Reach_45,\n",
    "    'reach_60': Reach_60\n",
    "})"
   ]
  },
  {
   "cell_type": "code",
   "execution_count": null,
   "id": "e2e751fe",
   "metadata": {},
   "outputs": [],
   "source": [
    "Reach"
   ]
  },
  {
   "cell_type": "markdown",
   "id": "4b45bb37",
   "metadata": {},
   "source": [
    "### Combining\n",
    "\n",
    "I add the Reach values to the neighbourhood geometry file"
   ]
  },
  {
   "cell_type": "code",
   "execution_count": null,
   "id": "c32cf321",
   "metadata": {},
   "outputs": [],
   "source": [
    "# Merging the DataFrames on the 'neighbourhood' column\n",
    "df_combined = pd.merge(Reach, Neighbourhoo_geo, on='SP_NAME')"
   ]
  },
  {
   "cell_type": "code",
   "execution_count": null,
   "id": "711d21be",
   "metadata": {
    "scrolled": true
   },
   "outputs": [],
   "source": [
    "df_combined.head()"
   ]
  },
  {
   "cell_type": "code",
   "execution_count": null,
   "id": "e58ef076",
   "metadata": {},
   "outputs": [],
   "source": [
    "# Convert the DataFrame to a GeoDataFrame\n",
    "gdf = gpd.GeoDataFrame(df_combined, geometry='geometry')"
   ]
  },
  {
   "cell_type": "markdown",
   "id": "89545237",
   "metadata": {},
   "source": [
    "## Export "
   ]
  },
  {
   "cell_type": "code",
   "execution_count": null,
   "id": "59963fff",
   "metadata": {},
   "outputs": [],
   "source": [
    "path_to_save = \" \""
   ]
  },
  {
   "cell_type": "code",
   "execution_count": null,
   "id": "c81193df",
   "metadata": {},
   "outputs": [],
   "source": [
    "os.chdir(path_to_save)\n",
    "for file in glob.glob(\"*\"):\n",
    "    print(file)"
   ]
  },
  {
   "cell_type": "code",
   "execution_count": null,
   "id": "9588d820",
   "metadata": {},
   "outputs": [],
   "source": [
    "gdf.to_file('Neighbourhood_E.shp')"
   ]
  }
 ],
 "metadata": {
  "kernelspec": {
   "display_name": "Python 3 (ipykernel)",
   "language": "python",
   "name": "python3"
  },
  "language_info": {
   "codemirror_mode": {
    "name": "ipython",
    "version": 3
   },
   "file_extension": ".py",
   "mimetype": "text/x-python",
   "name": "python",
   "nbconvert_exporter": "python",
   "pygments_lexer": "ipython3",
   "version": "3.9.12"
  }
 },
 "nbformat": 4,
 "nbformat_minor": 5
}
