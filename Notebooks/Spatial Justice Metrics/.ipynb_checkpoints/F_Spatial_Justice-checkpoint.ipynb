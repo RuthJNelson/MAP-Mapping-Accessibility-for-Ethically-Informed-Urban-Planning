{
 "cells": [
  {
   "cell_type": "markdown",
   "id": "13c945a2",
   "metadata": {},
   "source": [
    "## Notebook F: Spatial Justice\n",
    "\n",
    "**TU Delft**<br>\n",
    "**Author:** Ruth Nelson <br>"
   ]
  },
  {
   "cell_type": "markdown",
   "id": "085ece8c",
   "metadata": {},
   "source": [
    "The purpose of this notebook is to calculate: Equality, Utilitarian and Rawl's Reach Centrality and Gap metrics"
   ]
  },
  {
   "cell_type": "markdown",
   "id": "d9146084",
   "metadata": {},
   "source": [
    "1. Import\n",
    "2. Clean neighbourhoods\n",
    "3. Data exploration and inspection\n",
    "4. Equality Reach Centrality\n",
    "5. Utilitarian Reach Centrality\n",
    "6. Rawls' Reach Centrality\n",
    "7. Visualise\n",
    "8. Save"
   ]
  },
  {
   "cell_type": "markdown",
   "id": "ced5bc89",
   "metadata": {},
   "source": [
    "## 1. Import "
   ]
  },
  {
   "cell_type": "code",
   "execution_count": null,
   "id": "62c5d30a",
   "metadata": {},
   "outputs": [],
   "source": [
    "import geopandas as gpd"
   ]
  },
  {
   "cell_type": "code",
   "execution_count": null,
   "id": "89329ed0",
   "metadata": {},
   "outputs": [],
   "source": [
    "import pandas as pd\n",
    "import numpy as np\n",
    "import matplotlib.pyplot as plt\n",
    "import os\n",
    "import glob\n",
    "%matplotlib inline"
   ]
  },
  {
   "cell_type": "code",
   "execution_count": null,
   "id": "35cd5022",
   "metadata": {},
   "outputs": [],
   "source": [
    "#import the spatial justice module with the spatial justice functions"
   ]
  },
  {
   "cell_type": "code",
   "execution_count": null,
   "id": "5e1db4ec",
   "metadata": {},
   "outputs": [],
   "source": [
    "path_to_lib = \" \""
   ]
  },
  {
   "cell_type": "code",
   "execution_count": null,
   "id": "733de1c9",
   "metadata": {},
   "outputs": [],
   "source": [
    "os.chdir(path_to_lib)\n",
    "for file in glob.glob(\"*\"):\n",
    "    print(file)"
   ]
  },
  {
   "cell_type": "code",
   "execution_count": null,
   "id": "077cec2f",
   "metadata": {},
   "outputs": [],
   "source": [
    "import spatial_justice as sj"
   ]
  },
  {
   "cell_type": "code",
   "execution_count": null,
   "id": "f7ffdc0d",
   "metadata": {},
   "outputs": [],
   "source": [
    "path_to_file = \" \""
   ]
  },
  {
   "cell_type": "code",
   "execution_count": null,
   "id": "685858e9",
   "metadata": {},
   "outputs": [],
   "source": [
    "os.chdir(path_to_file)\n",
    "for file in glob.glob(\"*\"):\n",
    "    print(file)"
   ]
  },
  {
   "cell_type": "code",
   "execution_count": null,
   "id": "4600dd63",
   "metadata": {},
   "outputs": [],
   "source": [
    "#import the neighbourhoods with the Reach values and relevant socio-economic values\n",
    "neighbourhoods = gpd.read_file('Neighbourhood_E.shp')"
   ]
  },
  {
   "cell_type": "markdown",
   "id": "68ee8d80",
   "metadata": {},
   "source": [
    "## 2. Clean_neighbourhoods"
   ]
  },
  {
   "cell_type": "markdown",
   "id": "dc265a0d",
   "metadata": {},
   "source": [
    "create percentages, so that neighbourhoods can be compared"
   ]
  },
  {
   "cell_type": "code",
   "execution_count": null,
   "id": "b2153c78",
   "metadata": {},
   "outputs": [],
   "source": [
    "neighbourhoods.columns"
   ]
  },
  {
   "cell_type": "code",
   "execution_count": null,
   "id": "17189736",
   "metadata": {},
   "outputs": [],
   "source": [
    "neighbourhoods[['Total','Tot_18+', 'Edu_Tot', 'Employed', 'Total_18_6', 'Av income']] = neighbourhoods[['Total',\n",
    "       'Tot_18+', 'Edu_Tot', 'Employed', 'Total_18_6', 'Av income']].astype(int)"
   ]
  },
  {
   "cell_type": "code",
   "execution_count": null,
   "id": "d7e605d1",
   "metadata": {},
   "outputs": [],
   "source": [
    "#School educated people as % of population above 18\n",
    "neighbourhoods['Edu_p'] = (neighbourhoods['Edu_Tot']*100) / neighbourhoods['Tot_18+']"
   ]
  },
  {
   "cell_type": "code",
   "execution_count": null,
   "id": "bd6192bd",
   "metadata": {},
   "outputs": [],
   "source": [
    "#Employed people as % of population above 18\n",
    "neighbourhoods['Emp_p'] = (neighbourhoods['Employed']*100) / neighbourhoods['Tot_18+']"
   ]
  },
  {
   "cell_type": "markdown",
   "id": "c1d7fe4f",
   "metadata": {},
   "source": [
    "I will normalise the values by called the normalise function from the Spatial Justice module. This is an important step for calculating Rawls reach later on:\n",
    "\n",
    "- I need to define a list of the columns I would like to normalise\n",
    "- A dictionary which has existing column names and names I would like to call thenormalised columns"
   ]
  },
  {
   "cell_type": "code",
   "execution_count": null,
   "id": "18037288",
   "metadata": {},
   "outputs": [],
   "source": [
    "help(sj.normalise)"
   ]
  },
  {
   "cell_type": "code",
   "execution_count": null,
   "id": "bd33813b",
   "metadata": {},
   "outputs": [],
   "source": [
    "#defining the columns\n",
    "columns = ['Total','Av income', 'Edu_p', 'Emp_p']\n",
    "#defining the dictionary\n",
    "new_names = {'Total':'Total_n','Av income':'Av income_n', 'Edu_p':'Edu_p_n', 'Emp_p':'Emp_p_n'}\n",
    "\n",
    "#calling the normalise function\n",
    "\n",
    "sj.normalise(neighbourhoods, columns, new_names)"
   ]
  },
  {
   "cell_type": "code",
   "execution_count": null,
   "id": "3dda7e4d",
   "metadata": {},
   "outputs": [],
   "source": [
    "neighbourhoods.head()"
   ]
  },
  {
   "cell_type": "markdown",
   "id": "ecdab5af",
   "metadata": {},
   "source": [
    "I now reduce the dataframe to only the columns which I will use for the ideal Reach metrics"
   ]
  },
  {
   "cell_type": "code",
   "execution_count": null,
   "id": "a2bdcdca",
   "metadata": {},
   "outputs": [],
   "source": [
    "#reducing dataframe to relevant columns only\n",
    "neighbourhoods = neighbourhoods[['SP_NAME', 'Total', 'Tot_18+', 'Edu_Tot', 'Employed', 'Total_18_6', 'Av income','reach_15','reach_30','reach_45', 'reach_60','Edu_p', 'Emp_p', 'Total_n', 'Av income_n', 'Edu_p_n', 'Emp_p_n', 'geometry']]"
   ]
  },
  {
   "cell_type": "code",
   "execution_count": null,
   "id": "5a0173da",
   "metadata": {},
   "outputs": [],
   "source": [
    "neighbourhoods"
   ]
  },
  {
   "cell_type": "markdown",
   "id": "6a4f5bc9",
   "metadata": {},
   "source": [
    "## 3. Data inspection and exploration"
   ]
  },
  {
   "cell_type": "markdown",
   "id": "7e6b78f2",
   "metadata": {},
   "source": [
    "Plotting Histograms to get an understanding of the distribution of the data"
   ]
  },
  {
   "cell_type": "markdown",
   "id": "aa459469",
   "metadata": {},
   "source": [
    "#### Education"
   ]
  },
  {
   "cell_type": "code",
   "execution_count": null,
   "id": "eae999be",
   "metadata": {},
   "outputs": [],
   "source": [
    "# Plot the histogram\n",
    "plt.hist(neighbourhoods['Edu_p'], bins=20, edgecolor='black')  \n",
    "plt.xlabel('Edu_p')\n",
    "plt.ylabel('Frequency')\n",
    "plt.title('Education Distribution Histogram')\n",
    "plt.show()\n"
   ]
  },
  {
   "cell_type": "markdown",
   "id": "a09c5ac0",
   "metadata": {},
   "source": [
    "#### Employment"
   ]
  },
  {
   "cell_type": "code",
   "execution_count": null,
   "id": "0e52b043",
   "metadata": {},
   "outputs": [],
   "source": [
    "# Plot the histogram\n",
    "plt.hist(neighbourhoods['Emp_p'], bins=20, edgecolor='black')\n",
    "plt.xlabel('Emp_p')\n",
    "plt.ylabel('Frequency')\n",
    "plt.title('Employment Distribution Histogram')\n",
    "plt.show()"
   ]
  },
  {
   "cell_type": "markdown",
   "id": "dac9f5d4",
   "metadata": {},
   "source": [
    "#### Population"
   ]
  },
  {
   "cell_type": "code",
   "execution_count": null,
   "id": "c8818f0e",
   "metadata": {},
   "outputs": [],
   "source": [
    "# Plot the histogram\n",
    "plt.hist(neighbourhoods['Total'], bins=30, edgecolor='black') \n",
    "plt.xlabel('Total population')\n",
    "plt.ylabel('Frequency')\n",
    "plt.title('Population Distribution Histogram')\n",
    "plt.show()"
   ]
  },
  {
   "cell_type": "markdown",
   "id": "87487910",
   "metadata": {},
   "source": [
    "#### Income"
   ]
  },
  {
   "cell_type": "code",
   "execution_count": null,
   "id": "6ba888b5",
   "metadata": {},
   "outputs": [],
   "source": [
    "# Plot the histogram\n",
    "plt.hist(neighbourhoods['Av income'], bins=30, edgecolor='black')  \n",
    "plt.xlabel('Mean Income not normalised')\n",
    "plt.ylabel('Frequency')\n",
    "plt.title('Income Distribution Histogram')\n",
    "plt.show()"
   ]
  },
  {
   "cell_type": "code",
   "execution_count": null,
   "id": "ec11f49f",
   "metadata": {},
   "outputs": [],
   "source": [
    "len(neighbourhoods)"
   ]
  },
  {
   "cell_type": "code",
   "execution_count": null,
   "id": "66fd06da",
   "metadata": {},
   "outputs": [],
   "source": [
    "neighbourhoods.plot()"
   ]
  },
  {
   "cell_type": "markdown",
   "id": "075c38ac",
   "metadata": {},
   "source": [
    "## 4. Equality Reach Centrality (ERC)"
   ]
  },
  {
   "cell_type": "markdown",
   "id": "f9bb25da",
   "metadata": {},
   "source": [
    "ERC is based on egalitarian principles and thus represents a situation in which all neighbourhoods have equal access to opportunities j.  Thus, ERC for a neighbourhood a within the time threshold t is calculated as the sum of all neighbourhoods' actual reach R$^t$[a] divided by the total number of neighbourhoods A in the network.\n",
    "\n",
    "\\begin{equation}\n",
    "Eq.R^{T}(a) = \\frac{|R^{T}(a)|}{|A|}\n",
    "\\end{equation}\n",
    "\n",
    "We calculate the difference between the actual Reach Centrality of neighbourhood a and its ideal ERC, referring to this as the Equality Reach Gap $\\Delta$ Eq$^t$[a] of neighbourhood a.\n",
    "\n",
    "\\begin{equation}\n",
    "\\Delta Eq^{T}(a) = |R^{T}(a)| - Eq.R^{T}(a)\n",
    "\\end{equation}\n",
    "\n",
    "We use the spatial justice module's function, equality, to calculate these values"
   ]
  },
  {
   "cell_type": "code",
   "execution_count": null,
   "id": "5757bd82",
   "metadata": {},
   "outputs": [],
   "source": [
    "len(neighbourhoods)"
   ]
  },
  {
   "cell_type": "code",
   "execution_count": null,
   "id": "77879539",
   "metadata": {},
   "outputs": [],
   "source": [
    "number_neighbourhoods = 759 #number of neighbourhoods in your network"
   ]
  },
  {
   "cell_type": "code",
   "execution_count": null,
   "id": "4a685c5f",
   "metadata": {},
   "outputs": [],
   "source": [
    "neighbourhoods"
   ]
  },
  {
   "cell_type": "code",
   "execution_count": null,
   "id": "85a0d24b",
   "metadata": {},
   "outputs": [],
   "source": [
    "help(sj.equality)"
   ]
  },
  {
   "cell_type": "code",
   "execution_count": null,
   "id": "7aa8f959",
   "metadata": {},
   "outputs": [],
   "source": [
    "sj.equality('reach_15',neighbourhoods,number_neighbourhoods)"
   ]
  },
  {
   "cell_type": "code",
   "execution_count": null,
   "id": "4d72f7f0",
   "metadata": {},
   "outputs": [],
   "source": [
    "sj.equality('reach_30',neighbourhoods,number_neighbourhoods)"
   ]
  },
  {
   "cell_type": "code",
   "execution_count": null,
   "id": "1e8f0094",
   "metadata": {},
   "outputs": [],
   "source": [
    "sj.equality('reach_45',neighbourhoods,number_neighbourhoods)"
   ]
  },
  {
   "cell_type": "code",
   "execution_count": null,
   "id": "8f44914d",
   "metadata": {},
   "outputs": [],
   "source": [
    "sj.equality('reach_60',neighbourhoods,number_neighbourhoods)"
   ]
  },
  {
   "cell_type": "markdown",
   "id": "ca18b305",
   "metadata": {},
   "source": [
    "## 5. Utilitarian Reach Centrality (URC)"
   ]
  },
  {
   "cell_type": "markdown",
   "id": "6df493fc",
   "metadata": {},
   "source": [
    "URC is based on the principle that the right action is to maximise utility for the greatest good and thus maximise reach to places of employment on the working population of a neighbourhood. Thus, URC for the neighbourhood a within a time threshold t is calculated by the sum of all neighbourhoods' actual reach R$^t$[a] divided by the sum of the working population W of all neighbourhoods, multiplied by the working population of the neighbourhood a. Utilitarian Reach of the neighbourhood \\textit{a} is thus proportional to the ratio of the working population it possesses.\n",
    "\n",
    "\\begin{equation}\n",
    "Ut.R^{T}(a) = \\frac{|{R^{T}(a)}|\\cdot W_a}{W}\n",
    "\\end{equation}\n",
    "\n",
    "We calculate the difference between the actual Reach Centrality of neighbourhood a and the Utilitarian Reach Centrality of neighbourhood a, referring to this as the Utilitarian Reach Gap.\n",
    "\n",
    "\\begin{equation}\n",
    "\\Delta Ut^{T}(a) = |R^{T}(a)| - Ut.R^{T}(a)\n",
    "\\end{equation}\n",
    "\n",
    "\n",
    "We use the spatial justice module's function, utility, to calculate these values."
   ]
  },
  {
   "cell_type": "code",
   "execution_count": null,
   "id": "1b173079",
   "metadata": {},
   "outputs": [],
   "source": [
    "help(sj.utility)"
   ]
  },
  {
   "cell_type": "code",
   "execution_count": null,
   "id": "f05c670d",
   "metadata": {},
   "outputs": [],
   "source": [
    "sj.utility('reach_15', neighbourhoods,number_neighbourhoods,'Tot_18+')"
   ]
  },
  {
   "cell_type": "code",
   "execution_count": null,
   "id": "25f0b2f0",
   "metadata": {},
   "outputs": [],
   "source": [
    "sj.utility('reach_30', neighbourhoods,number_neighbourhoods,'Tot_18+')"
   ]
  },
  {
   "cell_type": "code",
   "execution_count": null,
   "id": "f7e677d0",
   "metadata": {},
   "outputs": [],
   "source": [
    "sj.utility('reach_45', neighbourhoods,number_neighbourhoods,'Tot_18+')"
   ]
  },
  {
   "cell_type": "code",
   "execution_count": null,
   "id": "eea025be",
   "metadata": {},
   "outputs": [],
   "source": [
    "sj.utility('reach_60', neighbourhoods,number_neighbourhoods,'Tot_18+')"
   ]
  },
  {
   "cell_type": "markdown",
   "id": "d8e1d9d0",
   "metadata": {},
   "source": [
    "## 6. Rawls' Reach Centrality (RRC)"
   ]
  },
  {
   "cell_type": "markdown",
   "id": "6060379f",
   "metadata": {},
   "source": [
    "RRC is based on the Rawlsian principle that social and economic resources should benefit the most vulnerable in society to the greatest extent and thus, Reach should ideally be proportional to a neighbourhood's vulnerability level. We thus create a Vulnerability Score for each neighbourhood based on a neighbourhood's specific characteristics across different dimensions. Depending on the context, the variables utilised for vulnerability might differ. We normalise the values for those dimensions, then sum the normalised values, dividing them by the number of values we included. In the case of our data, the higher the values were, the better off the neighbourhood faired, and thus, we subtract this value from 1 so that higher vulnerability in a neighbourhood corresponds to higher vulnerability scores. \n",
    "\n",
    "\\begin{equation}\n",
    "%V(a) = 1 - \\frac{V1 + V2 + V3}{3}\n",
    "%V(a) = 1 - \\frac{V_1 + V_2 + .. + V_n}{N}\n",
    "V(a) = 1 - \\frac{\\sum_0^n V_n}{n}~\\mbox{with}~n \\in \\mathbb{N}\n",
    "\\end{equation}\n",
    "\n",
    "The RRC $Ra.R^{T}(a)$ for a neighbourhood $a$ within a given time threshold $T$ is calculated through the total neighbourhood reach centrality $|R^T(a)|$ multiplied by $V(a)$ divided by the total number of neighbourhoods $|A|$. We calculate the difference between the actual Reach Centrality of neighbourhood $a$ and the RRC of neighbourhood $a$, referring to this as the *Rawls' Reach Gap* $\\Delta Ra^T(a)$ of neighbourhood $a$.\n",
    "\n",
    "\\begin{equation}\n",
    "\\Delta Ra^{T}(a) = |R^{T}(a)| - Ra.R^{T}(a)\n",
    "\\end{equation}\n",
    "\n",
    "We use the spatial justice module's function, rawls, to calculate these values."
   ]
  },
  {
   "cell_type": "code",
   "execution_count": null,
   "id": "8aa79969",
   "metadata": {},
   "outputs": [],
   "source": [
    "help(sj.vul_score)"
   ]
  },
  {
   "cell_type": "code",
   "execution_count": null,
   "id": "b9573e64",
   "metadata": {},
   "outputs": [],
   "source": [
    "columns = ['Edu_p_n','Emp_p_n','Av income_n']"
   ]
  },
  {
   "cell_type": "code",
   "execution_count": null,
   "id": "bbeedc48",
   "metadata": {},
   "outputs": [],
   "source": [
    "sj.vul_score(neighbourhoods, columns)"
   ]
  },
  {
   "cell_type": "code",
   "execution_count": null,
   "id": "7ee314e3",
   "metadata": {},
   "outputs": [],
   "source": [
    "help(sj.rawls)"
   ]
  },
  {
   "cell_type": "code",
   "execution_count": null,
   "id": "90593018",
   "metadata": {},
   "outputs": [],
   "source": [
    "sj.rawls('reach_15', neighbourhoods, number_neighbourhoods)"
   ]
  },
  {
   "cell_type": "code",
   "execution_count": null,
   "id": "f411b900",
   "metadata": {},
   "outputs": [],
   "source": [
    "sj.rawls('reach_30', neighbourhoods, number_neighbourhoods)"
   ]
  },
  {
   "cell_type": "code",
   "execution_count": null,
   "id": "b196f0f1",
   "metadata": {},
   "outputs": [],
   "source": [
    "sj.rawls('reach_45', neighbourhoods, number_neighbourhoods)"
   ]
  },
  {
   "cell_type": "code",
   "execution_count": null,
   "id": "2f67b2dd",
   "metadata": {},
   "outputs": [],
   "source": [
    "sj.rawls('reach_60', neighbourhoods, number_neighbourhoods)"
   ]
  },
  {
   "cell_type": "markdown",
   "id": "c3333a07",
   "metadata": {},
   "source": [
    "## 7. Visualise"
   ]
  },
  {
   "cell_type": "code",
   "execution_count": null,
   "id": "b5eab2b6",
   "metadata": {},
   "outputs": [],
   "source": [
    "#Visualise maps\n",
    "\n",
    "plt.figure(figsize=(20,10))\n",
    "\n",
    "ax1 = plt.subplot(2,3,1)\n",
    "\n",
    "#cmap = sns.diverging_palette(230, 20, as_cmap=True)\n",
    "\n",
    "neighbourhoods.plot(column='ERGreach_15', legend=True, linewidth=0, ax=ax1)\n",
    "\n",
    "plt.title('ERGreach_15')\n",
    "\n",
    "ax2 = plt.subplot(2,3,2)\n",
    "\n",
    "#sns.heatmap(corr2_2001, annot = True)\n",
    "neighbourhoods.plot(column='ERGreach_60', legend=True, linewidth=0, ax = ax2)\n",
    "\n",
    "plt.title('ERGreach_60')\n",
    "\n",
    "ax3 = plt.subplot(2,3,3)\n",
    "\n",
    "#sns.heatmap(corr2_2001, annot = True)\n",
    "neighbourhoods.plot(column='URGreach_15', legend=True, linewidth=0, ax = ax3)\n",
    "\n",
    "plt.title('URGreach_15')\n",
    "\n",
    "ax4 = plt.subplot(2,3,4)\n",
    "\n",
    "#sns.heatmap(corr2_2001, annot = True)\n",
    "neighbourhoods.plot(column='URGreach_60', legend=True, linewidth=0, ax = ax4)\n",
    "\n",
    "plt.title('URGreach_60')\n",
    "\n",
    "ax3 = plt.subplot(2,3,5)\n",
    "\n",
    "#sns.heatmap(corr2_2001, annot = True)\n",
    "neighbourhoods.plot(column='RRGreach_15', legend=True, linewidth=0, ax = ax3)\n",
    "\n",
    "plt.title('RRGreach_15')\n",
    "\n",
    "ax4 = plt.subplot(2,3,6)\n",
    "\n",
    "#sns.heatmap(corr2_2001, annot = True)\n",
    "neighbourhoods.plot(column='RRGreach_60', legend=True, linewidth=0, ax = ax4)\n",
    "\n",
    "plt.title('RRGreach_60')"
   ]
  },
  {
   "cell_type": "markdown",
   "id": "e43524d4",
   "metadata": {},
   "source": [
    "## 8. Save the file"
   ]
  },
  {
   "cell_type": "code",
   "execution_count": null,
   "id": "ad7906fa",
   "metadata": {},
   "outputs": [],
   "source": [
    "path_to_save = \" \""
   ]
  },
  {
   "cell_type": "code",
   "execution_count": null,
   "id": "284a7fdd",
   "metadata": {},
   "outputs": [],
   "source": [
    "os.chdir(path_to_save)\n",
    "for file in glob.glob(\"*\"):\n",
    "    print(file)"
   ]
  },
  {
   "cell_type": "code",
   "execution_count": null,
   "id": "10f794e4",
   "metadata": {},
   "outputs": [],
   "source": [
    "neighbourhoods.to_file('Neighbourhoods_F.shp')"
   ]
  }
 ],
 "metadata": {
  "kernelspec": {
   "display_name": "Python 3 (ipykernel)",
   "language": "python",
   "name": "python3"
  },
  "language_info": {
   "codemirror_mode": {
    "name": "ipython",
    "version": 3
   },
   "file_extension": ".py",
   "mimetype": "text/x-python",
   "name": "python",
   "nbconvert_exporter": "python",
   "pygments_lexer": "ipython3",
   "version": "3.9.12"
  }
 },
 "nbformat": 4,
 "nbformat_minor": 5
}
