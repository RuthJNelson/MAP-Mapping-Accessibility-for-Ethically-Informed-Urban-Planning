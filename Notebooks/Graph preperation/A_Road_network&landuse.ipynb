{
 "cells": [
  {
   "cell_type": "markdown",
   "id": "13c945a2",
   "metadata": {},
   "source": [
    "## Network A: Linking the road network and land use data\n",
    "\n",
    "**TU Delft**<br>\n",
    "**Author:** Ruth Nelson <br>"
   ]
  },
  {
   "cell_type": "markdown",
   "id": "7d7780f8",
   "metadata": {},
   "source": [
    "The main point of this notebook is to download the street network, clean it, link it to the land use data \n",
    "using Snkit and creating a graph from it.\n",
    "\n",
    "We will be using the Cape Town data set as an example."
   ]
  },
  {
   "cell_type": "markdown",
   "id": "d9146084",
   "metadata": {},
   "source": [
    "1. Import libraries\n",
    "2. Download Cape Town street network from OSMNX\n",
    "3. Cleaning the network by consolidating intersections\n",
    "4. Transform OSMNX graph to geopanda\n",
    "5. Import and clean landuse data\n",
    "6. Concattenating the land use data to the street vertices\n",
    "7. Snkit to link land use vertices\n",
    "8. Saving the files to shp"
   ]
  },
  {
   "cell_type": "code",
   "execution_count": null,
   "id": "89329ed0",
   "metadata": {},
   "outputs": [],
   "source": [
    "import geopandas as gpd\n",
    "import pandas as pd\n",
    "import networkx as nx\n",
    "import snkit\n",
    "import osmnx as ox\n",
    "import matplotlib.pyplot as plt\n",
    "import glob\n",
    "import os"
   ]
  },
  {
   "cell_type": "code",
   "execution_count": null,
   "id": "7e46929c",
   "metadata": {},
   "outputs": [],
   "source": [
    "pd.set_option('display.width', 500)\n",
    "pd.set_option('display.max_columns', None)\n",
    "#pd.set_option('display.notebook_repr_html', True)"
   ]
  },
  {
   "cell_type": "markdown",
   "id": "86911684",
   "metadata": {},
   "source": [
    "### 2. Download street network from OSMNX"
   ]
  },
  {
   "cell_type": "code",
   "execution_count": null,
   "id": "6e741424",
   "metadata": {},
   "outputs": [],
   "source": [
    "# download data from osm"
   ]
  },
  {
   "cell_type": "code",
   "execution_count": null,
   "id": "7dfb8a12",
   "metadata": {},
   "outputs": [],
   "source": [
    "G = ox.graph_from_bbox(-33.78336, -34.15007,18.34072, 18.92836, network_type='drive') #used coordinates to delineate area\n",
    "G_projected = ox.project_graph(G)\n",
    "ox.plot_graph(G_projected)"
   ]
  },
  {
   "cell_type": "markdown",
   "id": "a4607602",
   "metadata": {},
   "source": [
    "### 3. Cleaning the network by consolidating intersections"
   ]
  },
  {
   "cell_type": "code",
   "execution_count": null,
   "id": "516d1b2c",
   "metadata": {},
   "outputs": [],
   "source": [
    "# get a GeoSeries of consolidated intersections\n",
    "ints = ox.consolidate_intersections(G_projected, rebuild_graph=False, tolerance=15, dead_ends=False)\n",
    "len(ints)"
   ]
  },
  {
   "cell_type": "code",
   "execution_count": null,
   "id": "eda209c8",
   "metadata": {},
   "outputs": [],
   "source": [
    "# compare to number of vertices in original graph\n",
    "len(G)"
   ]
  },
  {
   "cell_type": "code",
   "execution_count": null,
   "id": "a655314e",
   "metadata": {},
   "outputs": [],
   "source": [
    "# consolidate intersections and rebuild graph topology\n",
    "# this reconnects edge geometries to the new consolidated vertices\n",
    "G2 = ox.consolidate_intersections(G_projected, rebuild_graph=True, tolerance=15, dead_ends=False)\n",
    "len(G2)"
   ]
  },
  {
   "cell_type": "markdown",
   "id": "4d4169a1",
   "metadata": {},
   "source": [
    "### 4. Transform OSMNX graph to geopanda"
   ]
  },
  {
   "cell_type": "code",
   "execution_count": null,
   "id": "f7b89267",
   "metadata": {},
   "outputs": [],
   "source": [
    "# you can convert your graph to vertex and edge GeoPandas GeoDataFrames\n",
    "gdf_vertices, gdf_edges = ox.graph_to_gdfs(G2)\n",
    "gdf_vertices.head()"
   ]
  },
  {
   "cell_type": "code",
   "execution_count": null,
   "id": "837d647d",
   "metadata": {},
   "outputs": [],
   "source": [
    "gdf_edges.head()"
   ]
  },
  {
   "cell_type": "markdown",
   "id": "673dc3b3",
   "metadata": {},
   "source": [
    "### 5. Import and clean land use data:\n",
    "\n",
    "- will use official land use data (over points of interest to see what is important)\n",
    "- will link using sknit"
   ]
  },
  {
   "cell_type": "code",
   "execution_count": null,
   "id": "1133c5f6",
   "metadata": {},
   "outputs": [],
   "source": [
    "path_to_land = \"\""
   ]
  },
  {
   "cell_type": "code",
   "execution_count": null,
   "id": "a6d805d8",
   "metadata": {},
   "outputs": [],
   "source": [
    "os.chdir(path_to_land)\n",
    "for file in glob.glob(\"*\"):\n",
    "    print(file)"
   ]
  },
  {
   "cell_type": "code",
   "execution_count": null,
   "id": "8c492d4d",
   "metadata": {},
   "outputs": [],
   "source": [
    "#reading in the landuse data, which are centroids of all non-residential land use\n",
    "landuse = gpd.read_file('land_use.shp') "
   ]
  },
  {
   "cell_type": "markdown",
   "id": "4e62c8b8",
   "metadata": {},
   "source": [
    "### 6. Concattenating the land use data to the street vertices"
   ]
  },
  {
   "cell_type": "code",
   "execution_count": null,
   "id": "d97a6931",
   "metadata": {},
   "outputs": [],
   "source": [
    "#Geometries to same crs\n",
    "landuse2 = landuse.to_crs(3857)"
   ]
  },
  {
   "cell_type": "code",
   "execution_count": null,
   "id": "c0e866e3",
   "metadata": {},
   "outputs": [],
   "source": [
    "landuse2['x'] = landuse2.geometry.x # x coord of column\n",
    "landuse2['y'] = landuse2.geometry.y #y coord of column"
   ]
  },
  {
   "cell_type": "code",
   "execution_count": null,
   "id": "35006bda",
   "metadata": {},
   "outputs": [],
   "source": [
    "landuse2.head()"
   ]
  },
  {
   "cell_type": "code",
   "execution_count": null,
   "id": "11c4c1ad",
   "metadata": {},
   "outputs": [],
   "source": [
    "#making sure its the same crs as the landuse\n",
    "gdf_vertices_2 = gdf_vertices.to_crs(3857)"
   ]
  },
  {
   "cell_type": "code",
   "execution_count": null,
   "id": "ec596636",
   "metadata": {},
   "outputs": [],
   "source": [
    "gdf_vertices_2.head()"
   ]
  },
  {
   "cell_type": "code",
   "execution_count": null,
   "id": "a07aaa33",
   "metadata": {},
   "outputs": [],
   "source": [
    "gdf_vertices_2['x'] = gdf_vertices_2.geometry.x # x coord of column\n",
    "gdf_vertices_2['y'] = gdf_vertices_2.geometry.y #y coord of column"
   ]
  },
  {
   "cell_type": "code",
   "execution_count": null,
   "id": "8463c08c",
   "metadata": {},
   "outputs": [],
   "source": [
    "#making sure its the same crs as the landuse\n",
    "gdf_edges_2 = gdf_edges.to_crs(3857)"
   ]
  },
  {
   "cell_type": "code",
   "execution_count": null,
   "id": "2555b879",
   "metadata": {},
   "outputs": [],
   "source": [
    "gdf_edges_2.head()"
   ]
  },
  {
   "cell_type": "markdown",
   "id": "5b0dea59",
   "metadata": {},
   "source": [
    "Concatenate land use vertices and street vertices"
   ]
  },
  {
   "cell_type": "code",
   "execution_count": null,
   "id": "4111df66",
   "metadata": {},
   "outputs": [],
   "source": [
    "vertices_network = pd.concat([landuse2,gdf_vertices_2])"
   ]
  },
  {
   "cell_type": "code",
   "execution_count": null,
   "id": "1c3e9bdd",
   "metadata": {},
   "outputs": [],
   "source": [
    "vertices_network = vertices_network.reset_index().drop('index', axis=1)"
   ]
  },
  {
   "cell_type": "markdown",
   "id": "e8f7ee1f",
   "metadata": {},
   "source": [
    "### 7. Snkit to link land use vertices\n",
    "\n",
    "I will now link the land use vertices to the street network utilising snkit"
   ]
  },
  {
   "cell_type": "code",
   "execution_count": null,
   "id": "98ab2a6c",
   "metadata": {},
   "outputs": [],
   "source": [
    "#Create basenetwork for snkit\n",
    "base_network = snkit.Network(vertices_network, gdf_edges_2) #this adds the additional edges"
   ]
  },
  {
   "cell_type": "code",
   "execution_count": null,
   "id": "bb4d8210",
   "metadata": {},
   "outputs": [],
   "source": [
    "# # Plot the edges and vertices\n",
    "ax = plt.axes()\n",
    "base_network.edges.plot(ax=ax, linewidth = 1, alpha = 0.6)\n",
    "base_network.nodes.plot(ax=ax, facecolor = 'red', markersize = 3)"
   ]
  },
  {
   "cell_type": "code",
   "execution_count": null,
   "id": "6dd2bc91",
   "metadata": {},
   "outputs": [],
   "source": [
    "base_network.edges = base_network.edges.reset_index()"
   ]
  },
  {
   "cell_type": "code",
   "execution_count": null,
   "id": "93d92a6e",
   "metadata": {},
   "outputs": [],
   "source": [
    "#linking the landuse to the network"
   ]
  },
  {
   "cell_type": "code",
   "execution_count": null,
   "id": "1aab688e",
   "metadata": {},
   "outputs": [],
   "source": [
    "linked = snkit.network.link_nodes_to_nearest_edge(base_network, condition=None)\n",
    "#ignore the warnings"
   ]
  },
  {
   "cell_type": "code",
   "execution_count": null,
   "id": "df8e4696",
   "metadata": {},
   "outputs": [],
   "source": [
    "#plot\n",
    "ax = plt.axes()\n",
    "linked.edges.plot(ax=ax, linewidth = 1, alpha = 0.5)\n",
    "linked.nodes.plot(ax=ax, facecolor = 'red', markersize = 3, alpha = 1)"
   ]
  },
  {
   "cell_type": "code",
   "execution_count": null,
   "id": "6babe838",
   "metadata": {},
   "outputs": [],
   "source": [
    "#Working with this new network"
   ]
  },
  {
   "cell_type": "code",
   "execution_count": null,
   "id": "397ead2b",
   "metadata": {},
   "outputs": [],
   "source": [
    "# create IDs for the new vertices and edges \n",
    "with_id = snkit.network.add_topology(snkit.network.add_ids(linked))"
   ]
  },
  {
   "cell_type": "code",
   "execution_count": null,
   "id": "a8290ab6",
   "metadata": {},
   "outputs": [],
   "source": [
    "## Adjusting attributes "
   ]
  },
  {
   "cell_type": "code",
   "execution_count": null,
   "id": "1422c64f",
   "metadata": {},
   "outputs": [],
   "source": [
    "with_id.nodes"
   ]
  },
  {
   "cell_type": "code",
   "execution_count": null,
   "id": "5ad9ae1b",
   "metadata": {},
   "outputs": [],
   "source": [
    "with_id.nodes['land use'] = with_id.nodes['land use'].fillna('None')"
   ]
  },
  {
   "cell_type": "code",
   "execution_count": null,
   "id": "ab01edb1",
   "metadata": {},
   "outputs": [],
   "source": [
    "#identifying a vertex as belonging to a street"
   ]
  },
  {
   "cell_type": "code",
   "execution_count": null,
   "id": "beab6b65",
   "metadata": {},
   "outputs": [],
   "source": [
    "with_id.nodes.osmid_original = with_id.nodes.osmid_original.fillna(0) #NANs become O"
   ]
  },
  {
   "cell_type": "code",
   "execution_count": null,
   "id": "012aeaed",
   "metadata": {},
   "outputs": [],
   "source": [
    "with_id.nodes.loc[with_id.nodes['osmid_original'] != 0, 'osmid_original'] = 'street' #identifies all street vertices"
   ]
  },
  {
   "cell_type": "code",
   "execution_count": null,
   "id": "29695fd9",
   "metadata": {},
   "outputs": [],
   "source": [
    "with_id.nodes.loc[with_id.nodes['osmid_original'] == 0, 'osmid_original'] = 'not_street' #identifies all non-street vertices"
   ]
  },
  {
   "cell_type": "code",
   "execution_count": null,
   "id": "bea2e289",
   "metadata": {},
   "outputs": [],
   "source": [
    "with_id.nodes = with_id.nodes.rename(columns = {'osmid_original':'vertex_type'}) #change column name to what it is"
   ]
  },
  {
   "cell_type": "code",
   "execution_count": null,
   "id": "92715ad6",
   "metadata": {},
   "outputs": [],
   "source": [
    "#adding a geometry to each vertex"
   ]
  },
  {
   "cell_type": "code",
   "execution_count": null,
   "id": "2bc6a99b",
   "metadata": {},
   "outputs": [],
   "source": [
    "with_id.nodes['x'] = with_id.nodes['geometry'].x # x coord of column\n",
    "with_id.nodes['y'] = with_id.nodes['geometry'].y #y coord of column"
   ]
  },
  {
   "cell_type": "code",
   "execution_count": null,
   "id": "e6568cfa",
   "metadata": {},
   "outputs": [],
   "source": [
    "relevant_columns = ['id','land use','vertex_type', 'x', 'y', 'geometry']\n",
    "\n",
    "#reduce vertices to relevant columns only\n",
    "vertices = with_id.nodes[relevant_columns]"
   ]
  },
  {
   "cell_type": "code",
   "execution_count": null,
   "id": "fa690c8e",
   "metadata": {},
   "outputs": [],
   "source": [
    "#classifies all land use connectors (the created edges)\n",
    "with_id.edges['length'] = with_id.edges['length'].fillna(0)\n",
    "with_id.edges.loc[with_id.edges['length'] == 0, 'highway'] = 'land_use_connector'"
   ]
  },
  {
   "cell_type": "code",
   "execution_count": null,
   "id": "25b24d37",
   "metadata": {},
   "outputs": [],
   "source": [
    "#rename highwy to edge_type\n",
    "with_id.edges = with_id.edges.rename(columns = {'highway':'edge_type'})\n",
    "#make sure it is in string format\n",
    "with_id.edges['edge_type']=with_id.edges['edge_type'].astype(str)"
   ]
  },
  {
   "cell_type": "code",
   "execution_count": null,
   "id": "d93a3ccb",
   "metadata": {},
   "outputs": [],
   "source": [
    "with_id.edges"
   ]
  },
  {
   "cell_type": "code",
   "execution_count": null,
   "id": "95abe551",
   "metadata": {},
   "outputs": [],
   "source": [
    "#reduce to relevant columns\n",
    "relevant_columns = ['length','edge_type', 'id', 'from_id', 'to_id', 'geometry']\n",
    "edges = with_id.edges[relevant_columns]"
   ]
  },
  {
   "cell_type": "code",
   "execution_count": null,
   "id": "88e1de63",
   "metadata": {},
   "outputs": [],
   "source": [
    "#have a column identifying if an edge is a street or not\n",
    "edges['vertex_type'] = 'street' #create a column identifying if the edge is a street or not with default value as street"
   ]
  },
  {
   "cell_type": "code",
   "execution_count": null,
   "id": "b7a6092b",
   "metadata": {},
   "outputs": [],
   "source": [
    "edges"
   ]
  },
  {
   "cell_type": "code",
   "execution_count": null,
   "id": "78d462fa",
   "metadata": {},
   "outputs": [],
   "source": [
    "edges.loc[edges['length'] == 0, 'vertex_type'] = 'not_street' #identifies all not street edges"
   ]
  },
  {
   "cell_type": "markdown",
   "id": "5a0261eb",
   "metadata": {},
   "source": [
    "drop the length column as it is no longer accurate due to each street \n",
    "edge being divided by the connecting land use edges and vertices"
   ]
  },
  {
   "cell_type": "code",
   "execution_count": null,
   "id": "ef527b7f",
   "metadata": {},
   "outputs": [],
   "source": [
    "edges = edges.drop('length', axis=1)"
   ]
  },
  {
   "cell_type": "code",
   "execution_count": null,
   "id": "bd76014a",
   "metadata": {},
   "outputs": [],
   "source": [
    "vertices"
   ]
  },
  {
   "cell_type": "markdown",
   "id": "bd37dd6a",
   "metadata": {},
   "source": [
    "### 8. Saving the files to shp"
   ]
  },
  {
   "cell_type": "code",
   "execution_count": null,
   "id": "e3b59fb2",
   "metadata": {},
   "outputs": [],
   "source": [
    "path_to_save = \" \""
   ]
  },
  {
   "cell_type": "code",
   "execution_count": null,
   "id": "39350959",
   "metadata": {},
   "outputs": [],
   "source": [
    "os.chdir(path_to_save)\n",
    "for file in glob.glob(\"*\"):\n",
    "    print(file)"
   ]
  },
  {
   "cell_type": "code",
   "execution_count": null,
   "id": "16644359",
   "metadata": {},
   "outputs": [],
   "source": [
    "edges.to_file('edges_a.shp')"
   ]
  },
  {
   "cell_type": "code",
   "execution_count": null,
   "id": "76691fea",
   "metadata": {},
   "outputs": [],
   "source": [
    "vertices.to_file('vertices_a.shp')"
   ]
  }
 ],
 "metadata": {
  "kernelspec": {
   "display_name": "Python 3 (ipykernel)",
   "language": "python",
   "name": "python3"
  },
  "language_info": {
   "codemirror_mode": {
    "name": "ipython",
    "version": 3
   },
   "file_extension": ".py",
   "mimetype": "text/x-python",
   "name": "python",
   "nbconvert_exporter": "python",
   "pygments_lexer": "ipython3",
   "version": "3.9.12"
  }
 },
 "nbformat": 4,
 "nbformat_minor": 5
}
