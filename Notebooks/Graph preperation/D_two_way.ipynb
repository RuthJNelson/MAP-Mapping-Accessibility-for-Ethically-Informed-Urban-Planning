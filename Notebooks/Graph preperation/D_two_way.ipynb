{
 "cells": [
  {
   "cell_type": "markdown",
   "id": "13c945a2",
   "metadata": {},
   "source": [
    "## Notebook D: Creating two-way connector edges\n",
    "\n",
    "**TU Delft**<br>\n",
    "**Author:** Ruth Nelson <br>"
   ]
  },
  {
   "cell_type": "markdown",
   "id": "be1c8afc",
   "metadata": {},
   "source": [
    "The purpose of this notebook is to illustrate an example of creating two way edges for the connectors, they need to be additional edges created as the final graph will be directed."
   ]
  },
  {
   "cell_type": "markdown",
   "id": "d9146084",
   "metadata": {},
   "source": [
    "1. Import\n",
    "2. Import the dataframes\n",
    "3. Create two way\n",
    "4. Save"
   ]
  },
  {
   "cell_type": "markdown",
   "id": "ced5bc89",
   "metadata": {},
   "source": [
    "### 1. Import libraries"
   ]
  },
  {
   "cell_type": "code",
   "execution_count": null,
   "id": "89329ed0",
   "metadata": {
    "scrolled": true
   },
   "outputs": [],
   "source": [
    "import geopandas as gpd\n",
    "import pandas as pd\n",
    "import os\n",
    "import glob"
   ]
  },
  {
   "cell_type": "code",
   "execution_count": null,
   "id": "7e46929c",
   "metadata": {},
   "outputs": [],
   "source": [
    "pd.set_option('display.width', 500)\n",
    "pd.set_option('display.max_columns', None)\n",
    "#pd.set_option('display.notebook_repr_html', True)"
   ]
  },
  {
   "cell_type": "markdown",
   "id": "86911684",
   "metadata": {},
   "source": [
    "### 2. Import the dataframes"
   ]
  },
  {
   "cell_type": "code",
   "execution_count": null,
   "id": "fc01efda",
   "metadata": {},
   "outputs": [],
   "source": [
    "path0 = \" \""
   ]
  },
  {
   "cell_type": "code",
   "execution_count": null,
   "id": "478c01c2",
   "metadata": {},
   "outputs": [],
   "source": [
    "os.chdir(path0)\n",
    "for file in glob.glob(\"*\"):\n",
    "    print(file)"
   ]
  },
  {
   "cell_type": "code",
   "execution_count": null,
   "id": "ea41e7dd",
   "metadata": {},
   "outputs": [],
   "source": [
    "edges_network  = gpd.read_file('edges_c.shp')"
   ]
  },
  {
   "cell_type": "code",
   "execution_count": null,
   "id": "485b8617",
   "metadata": {},
   "outputs": [],
   "source": [
    "edges_network.edge_type.unique()"
   ]
  },
  {
   "cell_type": "markdown",
   "id": "610717e3",
   "metadata": {},
   "source": [
    "### 3. Create two way edges for connectors "
   ]
  },
  {
   "cell_type": "code",
   "execution_count": null,
   "id": "f09b6a9b",
   "metadata": {},
   "outputs": [],
   "source": [
    "#Land use connectors"
   ]
  },
  {
   "cell_type": "code",
   "execution_count": null,
   "id": "84b74761",
   "metadata": {},
   "outputs": [],
   "source": [
    "landuse = edges_network[edges_network['edge_type']=='land_use_connector']"
   ]
  },
  {
   "cell_type": "code",
   "execution_count": null,
   "id": "4b9ffff7",
   "metadata": {},
   "outputs": [],
   "source": [
    "landuse = landuse.rename(columns = {'source':'target', 'target':'source'})"
   ]
  },
  {
   "cell_type": "code",
   "execution_count": null,
   "id": "57f9ad2b",
   "metadata": {},
   "outputs": [],
   "source": [
    "landuse"
   ]
  },
  {
   "cell_type": "code",
   "execution_count": null,
   "id": "3701863e",
   "metadata": {},
   "outputs": [],
   "source": [
    "edges = pd.concat([edges_network, landuse])"
   ]
  },
  {
   "cell_type": "code",
   "execution_count": null,
   "id": "460b7962",
   "metadata": {},
   "outputs": [],
   "source": [
    "#BRT connectors"
   ]
  },
  {
   "cell_type": "code",
   "execution_count": null,
   "id": "17486932",
   "metadata": {},
   "outputs": [],
   "source": [
    "BRT = edges[edges['edge_type']=='brt_connector']"
   ]
  },
  {
   "cell_type": "code",
   "execution_count": null,
   "id": "ba1febc3",
   "metadata": {},
   "outputs": [],
   "source": [
    "BRT = BRT.rename(columns = {'source':'target', 'target':'source'})"
   ]
  },
  {
   "cell_type": "code",
   "execution_count": null,
   "id": "8befa866",
   "metadata": {},
   "outputs": [],
   "source": [
    "BRT"
   ]
  },
  {
   "cell_type": "code",
   "execution_count": null,
   "id": "374cf4d3",
   "metadata": {},
   "outputs": [],
   "source": [
    "edges2 = pd.concat([edges, BRT])"
   ]
  },
  {
   "cell_type": "code",
   "execution_count": null,
   "id": "29f54edf",
   "metadata": {},
   "outputs": [],
   "source": [
    "#Railway connectors"
   ]
  },
  {
   "cell_type": "code",
   "execution_count": null,
   "id": "9bd95911",
   "metadata": {},
   "outputs": [],
   "source": [
    "rail = edges2[edges2['edge_type']=='railway_connector']"
   ]
  },
  {
   "cell_type": "code",
   "execution_count": null,
   "id": "0f9de2c3",
   "metadata": {},
   "outputs": [],
   "source": [
    "rail.head()"
   ]
  },
  {
   "cell_type": "code",
   "execution_count": null,
   "id": "43353516",
   "metadata": {},
   "outputs": [],
   "source": [
    "rail = rail.rename(columns = {'source':'target', 'target':'source'})"
   ]
  },
  {
   "cell_type": "code",
   "execution_count": null,
   "id": "56788c3b",
   "metadata": {},
   "outputs": [],
   "source": [
    "edges3 = pd.concat([edges2, rail])"
   ]
  },
  {
   "cell_type": "code",
   "execution_count": null,
   "id": "140299d0",
   "metadata": {},
   "outputs": [],
   "source": [
    "#Rename edge ID\n",
    "\n",
    "edges3['id'] = edges3['source'] + \", \" +edges3['target']"
   ]
  },
  {
   "cell_type": "code",
   "execution_count": null,
   "id": "6cfe1993",
   "metadata": {},
   "outputs": [],
   "source": [
    "edges3.head()"
   ]
  },
  {
   "cell_type": "code",
   "execution_count": null,
   "id": "6f3a7f0a",
   "metadata": {},
   "outputs": [],
   "source": [
    "edges3 = edges3.reset_index().drop('index',axis=1)"
   ]
  },
  {
   "cell_type": "code",
   "execution_count": null,
   "id": "042c303e",
   "metadata": {},
   "outputs": [],
   "source": [
    "edges3 "
   ]
  },
  {
   "cell_type": "markdown",
   "id": "f5aa5c8e",
   "metadata": {},
   "source": [
    "### 4. Save"
   ]
  },
  {
   "cell_type": "code",
   "execution_count": null,
   "id": "386c5919",
   "metadata": {},
   "outputs": [],
   "source": [
    "path_save = \" \""
   ]
  },
  {
   "cell_type": "code",
   "execution_count": null,
   "id": "9adcb0e8",
   "metadata": {},
   "outputs": [],
   "source": [
    "os.chdir(path_save)\n",
    "for file in glob.glob(\"*\"):\n",
    "    print(file)"
   ]
  },
  {
   "cell_type": "code",
   "execution_count": null,
   "id": "9588d820",
   "metadata": {},
   "outputs": [],
   "source": [
    "#Export the edges\n",
    "edges3.to_file('edges_d.shp')"
   ]
  }
 ],
 "metadata": {
  "kernelspec": {
   "display_name": "Python 3 (ipykernel)",
   "language": "python",
   "name": "python3"
  },
  "language_info": {
   "codemirror_mode": {
    "name": "ipython",
    "version": 3
   },
   "file_extension": ".py",
   "mimetype": "text/x-python",
   "name": "python",
   "nbconvert_exporter": "python",
   "pygments_lexer": "ipython3",
   "version": "3.9.12"
  }
 },
 "nbformat": 4,
 "nbformat_minor": 5
}
