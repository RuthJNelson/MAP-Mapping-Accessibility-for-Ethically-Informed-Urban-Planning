{
 "cells": [
  {
   "cell_type": "markdown",
   "id": "e3b6aa5f",
   "metadata": {},
   "source": [
    "## Notebook C: Concatenating the transport routes\n",
    "\n",
    "**TU Delft**<br>\n",
    "**Author:** Ruth Nelson <br>"
   ]
  },
  {
   "cell_type": "markdown",
   "id": "86b46206",
   "metadata": {},
   "source": [
    "The main purpose of this example notebook is to illustrate the concatenation of the transportation lines with the edge network"
   ]
  },
  {
   "cell_type": "markdown",
   "id": "4ceb6520",
   "metadata": {},
   "source": [
    "1. Import libraries\n",
    "2. Import dataframes\n",
    "3. Calculate time-costs\n",
    "4. Clean vertices and edges\n",
    "5. Concatenate edges\n",
    "6. Save dataframes to shp"
   ]
  },
  {
   "cell_type": "markdown",
   "id": "3118b403",
   "metadata": {},
   "source": [
    "## 1. Import libraries"
   ]
  },
  {
   "cell_type": "code",
   "execution_count": null,
   "id": "d2e37da6",
   "metadata": {},
   "outputs": [],
   "source": [
    "import geopandas as gpd\n",
    "import pandas as pd\n",
    "import os\n",
    "import glob"
   ]
  },
  {
   "cell_type": "code",
   "execution_count": null,
   "id": "13c1b59a",
   "metadata": {},
   "outputs": [],
   "source": [
    "pd.set_option('display.width', 500)\n",
    "pd.set_option('display.max_columns', None)\n",
    "#pd.set_option('display.notebook_repr_html', True)"
   ]
  },
  {
   "cell_type": "markdown",
   "id": "78a423de",
   "metadata": {},
   "source": [
    "## 2. Import the dataframes"
   ]
  },
  {
   "cell_type": "code",
   "execution_count": null,
   "id": "8a0d1a84",
   "metadata": {},
   "outputs": [],
   "source": [
    "path_to_network = \" \""
   ]
  },
  {
   "cell_type": "code",
   "execution_count": null,
   "id": "5efc7d35",
   "metadata": {},
   "outputs": [],
   "source": [
    "os.chdir(path_to_network)\n",
    "for file in glob.glob(\"*\"):\n",
    "    print(file)"
   ]
  },
  {
   "cell_type": "markdown",
   "id": "e0b82068",
   "metadata": {},
   "source": [
    "## Important: \n",
    "\n",
    "Prior to importing these edges I calculated the length for each edge in QGIS, I did it in QGIS because it is more accurate than Python taking into account the curvature of the earth, although you can also do it in Python. All the original streets have been broken up by the connecting vertices and edges. To calculate the lengths, one loads the edges data set into QGIS and then opens the attribute table and then the Field Calculater. In the Field Calculator, one clicks on Geometry and selects $length. The column needs to be named Length and it must be a real number. Press Ok and the new length variables are stored in a column called Length. Press the pencil in the top left hand corner to save the updates. Just to note, in order for this to work, the CRS of the edge file (which can be set in the layer properties) must be set to the CRS of the project in QGIS, which in the case of Cape Town is EPSG:3857."
   ]
  },
  {
   "cell_type": "code",
   "execution_count": null,
   "id": "8a2e3e02",
   "metadata": {},
   "outputs": [],
   "source": [
    "edges  = gpd.read_file('edges_b.shp') "
   ]
  },
  {
   "cell_type": "code",
   "execution_count": null,
   "id": "a7c91c3a",
   "metadata": {},
   "outputs": [],
   "source": [
    "edges"
   ]
  },
  {
   "cell_type": "code",
   "execution_count": null,
   "id": "0e691c45",
   "metadata": {},
   "outputs": [],
   "source": [
    "vertices  = gpd.read_file('vertices_b.shp') "
   ]
  },
  {
   "cell_type": "code",
   "execution_count": null,
   "id": "e11ca9fb",
   "metadata": {},
   "outputs": [],
   "source": [
    "vertices"
   ]
  },
  {
   "cell_type": "code",
   "execution_count": null,
   "id": "8a7ac7c1",
   "metadata": {},
   "outputs": [],
   "source": [
    "path_to_transportation1_lines = \" \""
   ]
  },
  {
   "cell_type": "code",
   "execution_count": null,
   "id": "fab358b4",
   "metadata": {},
   "outputs": [],
   "source": [
    "os.chdir(path_to_transportation1_lines)\n",
    "for file in glob.glob(\"*\"):\n",
    "    print(file)"
   ]
  },
  {
   "cell_type": "code",
   "execution_count": null,
   "id": "e169ff5b",
   "metadata": {},
   "outputs": [],
   "source": [
    "brt_edges  = gpd.read_file('Myciti_edges.shp') #load in brt edges"
   ]
  },
  {
   "cell_type": "code",
   "execution_count": null,
   "id": "9e4ddccc",
   "metadata": {},
   "outputs": [],
   "source": [
    "path_to_transportation2_lines =\" \""
   ]
  },
  {
   "cell_type": "code",
   "execution_count": null,
   "id": "2db7a273",
   "metadata": {},
   "outputs": [],
   "source": [
    "brt_edges.plot()"
   ]
  },
  {
   "cell_type": "code",
   "execution_count": null,
   "id": "cdbb16b9",
   "metadata": {},
   "outputs": [],
   "source": [
    "os.chdir(path_to_transportation2_lines)\n",
    "for file in glob.glob(\"*\"):\n",
    "    print(file)"
   ]
  },
  {
   "cell_type": "code",
   "execution_count": null,
   "id": "67ea06a3",
   "metadata": {},
   "outputs": [],
   "source": [
    "railway_edges  = gpd.read_file('Railway_edges.shp') #load in railway edges"
   ]
  },
  {
   "cell_type": "code",
   "execution_count": null,
   "id": "7b8d56f3",
   "metadata": {},
   "outputs": [],
   "source": [
    "railway_edges.plot()"
   ]
  },
  {
   "cell_type": "markdown",
   "id": "0a08a8b5",
   "metadata": {},
   "source": [
    "## 3. Calculate time-cost of different edges\n",
    "\n",
    "I will now calculate the time-cost of each edge based on the length of each street and the connector type"
   ]
  },
  {
   "cell_type": "code",
   "execution_count": null,
   "id": "e33e4b9e",
   "metadata": {},
   "outputs": [],
   "source": [
    "#per minute an average human walks roughly 83.3m\n",
    "walking = 83.3"
   ]
  },
  {
   "cell_type": "code",
   "execution_count": null,
   "id": "905f5ff7",
   "metadata": {},
   "outputs": [],
   "source": [
    "edges['time_cost'] = edges['Length']/walking"
   ]
  },
  {
   "cell_type": "code",
   "execution_count": null,
   "id": "c1e7d387",
   "metadata": {},
   "outputs": [],
   "source": [
    "edges['time_cost'] = edges['time_cost'].round(2)"
   ]
  },
  {
   "cell_type": "code",
   "execution_count": null,
   "id": "ce3757f5",
   "metadata": {},
   "outputs": [],
   "source": [
    "edges.head()"
   ]
  },
  {
   "cell_type": "code",
   "execution_count": null,
   "id": "12233c5a",
   "metadata": {},
   "outputs": [],
   "source": [
    "#time-cost on a BRT connector is 0.5 min\n",
    "edges.loc[edges['edge_type'].isin(['brt_connector']), 'time_cost'] = 0.5"
   ]
  },
  {
   "cell_type": "code",
   "execution_count": null,
   "id": "e3c74b5f",
   "metadata": {},
   "outputs": [],
   "source": [
    "#time-cost on a Railway connector is 1 minute\n",
    "edges.loc[edges['edge_type'].isin(['railway_connector']), 'time_cost'] = 1"
   ]
  },
  {
   "cell_type": "code",
   "execution_count": null,
   "id": "b105fcdc",
   "metadata": {},
   "outputs": [],
   "source": [
    "#time-cost on a land use connector is 0.5 minute\n",
    "edges.loc[edges['edge_type'].isin(['land_use_connector']), 'time_cost'] = 0.5"
   ]
  },
  {
   "cell_type": "markdown",
   "id": "4419d324",
   "metadata": {},
   "source": [
    "##  4. Clean edges and vertices"
   ]
  },
  {
   "cell_type": "code",
   "execution_count": null,
   "id": "3b0d13ac",
   "metadata": {},
   "outputs": [],
   "source": [
    "edges = edges[['edge_type','vertex_typ','id', 'from_id', 'to_id', 'Length','time_cost', 'geometry']]"
   ]
  },
  {
   "cell_type": "code",
   "execution_count": null,
   "id": "598a888d",
   "metadata": {},
   "outputs": [],
   "source": [
    "edges = edges.rename(columns ={'from_id':'source', 'to_id':'target'})"
   ]
  },
  {
   "cell_type": "code",
   "execution_count": null,
   "id": "942eb29f",
   "metadata": {},
   "outputs": [],
   "source": [
    "#create an edge id for each Myciti edge\n",
    "brt_edges['id'] = brt_edges['source'] + ', ' + brt_edges['target']"
   ]
  },
  {
   "cell_type": "code",
   "execution_count": null,
   "id": "5d18489d",
   "metadata": {},
   "outputs": [],
   "source": [
    "#Create an edge and vertex type for each brt edge\n",
    "brt_edges['edge_type'] = 'brt_line'\n",
    "brt_edges['vertex_typ'] = 'not street'"
   ]
  },
  {
   "cell_type": "code",
   "execution_count": null,
   "id": "cc01bfc5",
   "metadata": {},
   "outputs": [],
   "source": [
    "#create an edge id for each railway edge\n",
    "railway_edges['id'] = railway_edges['source'] + ', ' + railway_edges['target']"
   ]
  },
  {
   "cell_type": "code",
   "execution_count": null,
   "id": "1108c82e",
   "metadata": {},
   "outputs": [],
   "source": [
    "#Create an edge type for each railway edge\n",
    "railway_edges['edge_type'] = 'railway_line'\n",
    "railway_edges['vertex_typ'] = 'not street'"
   ]
  },
  {
   "cell_type": "code",
   "execution_count": null,
   "id": "438c424c",
   "metadata": {},
   "outputs": [],
   "source": [
    "railway_edges.head()"
   ]
  },
  {
   "cell_type": "markdown",
   "id": "e4421782",
   "metadata": {},
   "source": [
    "## 5. Concatenate Edges"
   ]
  },
  {
   "cell_type": "code",
   "execution_count": null,
   "id": "a43f7ac1",
   "metadata": {},
   "outputs": [],
   "source": [
    "#concatenate road edges with brt edges\n",
    "edges_f = pd.concat([edges, brt_edges])"
   ]
  },
  {
   "cell_type": "code",
   "execution_count": null,
   "id": "50ed28c3",
   "metadata": {},
   "outputs": [],
   "source": [
    "#concatenate edges_ff with railway edges\n",
    "edges_ff = pd.concat([edges_f, railway_edges])"
   ]
  },
  {
   "cell_type": "code",
   "execution_count": null,
   "id": "97680576",
   "metadata": {},
   "outputs": [],
   "source": [
    "#Reset index\n",
    "edges_ff = edges_ff.reset_index().drop('index', axis = 1)"
   ]
  },
  {
   "cell_type": "code",
   "execution_count": null,
   "id": "cb3ea9c9",
   "metadata": {
    "scrolled": true
   },
   "outputs": [],
   "source": [
    "edges_ff"
   ]
  },
  {
   "cell_type": "markdown",
   "id": "ae6a288f",
   "metadata": {},
   "source": [
    "## 6. Save"
   ]
  },
  {
   "cell_type": "code",
   "execution_count": null,
   "id": "f57dd069",
   "metadata": {},
   "outputs": [],
   "source": [
    "path_to_save = \" \""
   ]
  },
  {
   "cell_type": "code",
   "execution_count": null,
   "id": "84e2ef80",
   "metadata": {},
   "outputs": [],
   "source": [
    "os.chdir(path_to_save)\n",
    "for file in glob.glob(\"*\"):\n",
    "    print(file)"
   ]
  },
  {
   "cell_type": "code",
   "execution_count": null,
   "id": "12a90ac0",
   "metadata": {},
   "outputs": [],
   "source": [
    "edges_ff.to_file('edges_c') #save edges"
   ]
  },
  {
   "cell_type": "code",
   "execution_count": null,
   "id": "23636e8f",
   "metadata": {},
   "outputs": [],
   "source": [
    "vertices.to_file('vertices_c') #save vertices"
   ]
  }
 ],
 "metadata": {
  "kernelspec": {
   "display_name": "Python 3 (ipykernel)",
   "language": "python",
   "name": "python3"
  },
  "language_info": {
   "codemirror_mode": {
    "name": "ipython",
    "version": 3
   },
   "file_extension": ".py",
   "mimetype": "text/x-python",
   "name": "python",
   "nbconvert_exporter": "python",
   "pygments_lexer": "ipython3",
   "version": "3.9.12"
  }
 },
 "nbformat": 4,
 "nbformat_minor": 5
}
