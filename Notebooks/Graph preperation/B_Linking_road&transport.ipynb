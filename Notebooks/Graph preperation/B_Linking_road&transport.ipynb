{
 "cells": [
  {
   "cell_type": "markdown",
   "id": "13c945a2",
   "metadata": {},
   "source": [
    "## Notebook B: Linking the transport network/s\n",
    "\n",
    "**TU Delft**<br>\n",
    "**Author:** Ruth Nelson <br>"
   ]
  },
  {
   "cell_type": "markdown",
   "id": "a6efe402",
   "metadata": {},
   "source": [
    "An example notebook showing how to link the transport vertices to the network created in Notebook A. \n",
    "You will run this notebook for as many times as you have transport networks, in the case of the Cape Town sample data twice, once for the BRT and once for the Railway."
   ]
  },
  {
   "cell_type": "markdown",
   "id": "d9146084",
   "metadata": {},
   "source": [
    "1. Import libraries\n",
    "2. Import Network A created in Notebook A and transport vertices\n",
    "3. Cleaning\n",
    "4. Seperate vertices and edges and concatenate\n",
    "5. Snkit to link transport vertices with Network A\n",
    "6. Adjust attributes\n",
    "7. Saving the files to shp"
   ]
  },
  {
   "cell_type": "markdown",
   "id": "ced5bc89",
   "metadata": {},
   "source": [
    "### 1. Import libraries"
   ]
  },
  {
   "cell_type": "code",
   "execution_count": null,
   "id": "89329ed0",
   "metadata": {},
   "outputs": [],
   "source": [
    "import geopandas as gpd\n",
    "import pandas as pd\n",
    "import networkx as nx\n",
    "import matplotlib.pyplot as plt\n",
    "import snkit\n",
    "import os\n",
    "import glob"
   ]
  },
  {
   "cell_type": "code",
   "execution_count": null,
   "id": "7e46929c",
   "metadata": {},
   "outputs": [],
   "source": [
    "pd.set_option('display.width', 500)\n",
    "pd.set_option('display.max_columns', None)\n",
    "#pd.set_option('display.notebook_repr_html', True)"
   ]
  },
  {
   "cell_type": "markdown",
   "id": "86911684",
   "metadata": {},
   "source": [
    "### 2. Import the dataframes"
   ]
  },
  {
   "cell_type": "code",
   "execution_count": null,
   "id": "bbebe2c1",
   "metadata": {},
   "outputs": [],
   "source": [
    "#import the linked road network to land use and the seperate transport network"
   ]
  },
  {
   "cell_type": "code",
   "execution_count": null,
   "id": "731dd03c",
   "metadata": {},
   "outputs": [],
   "source": [
    "path0 = \" \""
   ]
  },
  {
   "cell_type": "code",
   "execution_count": null,
   "id": "45fcce13",
   "metadata": {
    "scrolled": true
   },
   "outputs": [],
   "source": [
    "os.chdir(path0)\n",
    "for file in glob.glob(\"*\"):\n",
    "    print(file)"
   ]
  },
  {
   "cell_type": "code",
   "execution_count": null,
   "id": "ea41e7dd",
   "metadata": {},
   "outputs": [],
   "source": [
    "edges  = gpd.read_file('edges_a.shp')"
   ]
  },
  {
   "cell_type": "code",
   "execution_count": null,
   "id": "63cf624c",
   "metadata": {},
   "outputs": [],
   "source": [
    "vertices = gpd.read_file('vertices_a.shp')"
   ]
  },
  {
   "cell_type": "code",
   "execution_count": null,
   "id": "8a85c175",
   "metadata": {},
   "outputs": [],
   "source": [
    "#import vertices from transport network"
   ]
  },
  {
   "cell_type": "code",
   "execution_count": null,
   "id": "f28c466e",
   "metadata": {},
   "outputs": [],
   "source": [
    "path1 = \" \""
   ]
  },
  {
   "cell_type": "code",
   "execution_count": null,
   "id": "3ee988f1",
   "metadata": {},
   "outputs": [],
   "source": [
    "os.chdir(path1)\n",
    "for file in glob.glob(\"*\"):\n",
    "    print(file)"
   ]
  },
  {
   "cell_type": "code",
   "execution_count": null,
   "id": "838036e3",
   "metadata": {},
   "outputs": [],
   "source": [
    "transport_vertices  = pd.read_csv('Myciti_vertices.csv') # load in transport vertices"
   ]
  },
  {
   "cell_type": "code",
   "execution_count": null,
   "id": "75588b57",
   "metadata": {},
   "outputs": [],
   "source": [
    "transport_vertices"
   ]
  },
  {
   "cell_type": "markdown",
   "id": "6a4f5bc9",
   "metadata": {},
   "source": [
    "### 3. Cleaning"
   ]
  },
  {
   "cell_type": "code",
   "execution_count": null,
   "id": "300f5bac",
   "metadata": {},
   "outputs": [],
   "source": [
    "vertices"
   ]
  },
  {
   "cell_type": "code",
   "execution_count": null,
   "id": "23437998",
   "metadata": {},
   "outputs": [],
   "source": [
    "transport_vertices.head()"
   ]
  },
  {
   "cell_type": "code",
   "execution_count": null,
   "id": "be8ea6c6",
   "metadata": {},
   "outputs": [],
   "source": [
    "#rename the name column\n",
    "transport_vertices = transport_vertices.rename(columns = {'name':'id'})"
   ]
  },
  {
   "cell_type": "code",
   "execution_count": null,
   "id": "32a62538",
   "metadata": {},
   "outputs": [],
   "source": [
    "#adding landuse and vertex_type columns\n",
    "transport_vertices['land use'] = 'brt_stop' #could be another kind of stop/station, just an example\n",
    "transport_vertices['vertex_typ'] = 'not_street'"
   ]
  },
  {
   "cell_type": "code",
   "execution_count": null,
   "id": "4a1e67d0",
   "metadata": {},
   "outputs": [],
   "source": [
    "#ensure that transport vertices have geometry\n",
    "\n",
    "from shapely.geometry import Point\n",
    "\n",
    "# Create geometry column from x and y\n",
    "geometry = [Point(xy) for xy in zip(transport_vertices['x'], transport_vertices['y'])]\n",
    "\n",
    "# Create a GeoDataFrame\n",
    "transport_vertices = gpd.GeoDataFrame(transport_vertices, geometry=geometry)"
   ]
  },
  {
   "cell_type": "code",
   "execution_count": null,
   "id": "6ad50200",
   "metadata": {},
   "outputs": [],
   "source": [
    "transport_vertices"
   ]
  },
  {
   "cell_type": "markdown",
   "id": "31036741",
   "metadata": {},
   "source": [
    "### 4. Seperate vertices and edges and concatenate"
   ]
  },
  {
   "cell_type": "markdown",
   "id": "f0ed1a71",
   "metadata": {},
   "source": [
    "You need to seperate the vertices and edges into vertex type streets and not streets as you only want to link the railway vertices to streets and not any of the created connectors, so you seperate and will rejoin again after running snkit"
   ]
  },
  {
   "cell_type": "markdown",
   "id": "4e2ed3c8",
   "metadata": {},
   "source": [
    "#### vertices"
   ]
  },
  {
   "cell_type": "code",
   "execution_count": null,
   "id": "c26755f3",
   "metadata": {},
   "outputs": [],
   "source": [
    "vertices2 = vertices.loc[vertices['vertex_typ']=='street']\n",
    "\n",
    "vertices3 = vertices.loc[vertices['vertex_typ']=='not_street']"
   ]
  },
  {
   "cell_type": "code",
   "execution_count": null,
   "id": "8b674bc7",
   "metadata": {},
   "outputs": [],
   "source": [
    "#concatenate the street vertices with the transport_vertices\n",
    "vertices_network = pd.concat([vertices2, transport_vertices])"
   ]
  },
  {
   "cell_type": "code",
   "execution_count": null,
   "id": "0b3fd67e",
   "metadata": {},
   "outputs": [],
   "source": [
    "vertices_network"
   ]
  },
  {
   "cell_type": "code",
   "execution_count": null,
   "id": "fb0ce04f",
   "metadata": {},
   "outputs": [],
   "source": [
    "#reset_index\n",
    "vertices_network = vertices_network.reset_index().drop('index', axis=1)"
   ]
  },
  {
   "cell_type": "code",
   "execution_count": null,
   "id": "a7a69f02",
   "metadata": {},
   "outputs": [],
   "source": [
    "vertices_network"
   ]
  },
  {
   "cell_type": "markdown",
   "id": "e714080a",
   "metadata": {},
   "source": [
    "#### Edges"
   ]
  },
  {
   "cell_type": "code",
   "execution_count": null,
   "id": "1ad7f114",
   "metadata": {},
   "outputs": [],
   "source": [
    "#rename\n",
    "edges = edges.rename(columns = {'from_id':'source', 'to_id':'target' })"
   ]
  },
  {
   "cell_type": "code",
   "execution_count": null,
   "id": "5b69b674",
   "metadata": {},
   "outputs": [],
   "source": [
    "edges"
   ]
  },
  {
   "cell_type": "code",
   "execution_count": null,
   "id": "03f72bf7",
   "metadata": {},
   "outputs": [],
   "source": [
    "#seperate street edges from connection edges\n",
    "edges2 = edges.loc[edges['vertex_typ']!='not_street']\n",
    "edges3 = edges.loc[edges['vertex_typ']=='not_street']"
   ]
  },
  {
   "cell_type": "code",
   "execution_count": null,
   "id": "46868f4c",
   "metadata": {},
   "outputs": [],
   "source": [
    "edges2"
   ]
  },
  {
   "cell_type": "code",
   "execution_count": null,
   "id": "9170fd18",
   "metadata": {},
   "outputs": [],
   "source": [
    "edges3"
   ]
  },
  {
   "cell_type": "markdown",
   "id": "e8f7ee1f",
   "metadata": {},
   "source": [
    "### 5. Snkit to link railway vertices with road network\n",
    "\n",
    "- creating additional edges between streets and railway vertices"
   ]
  },
  {
   "cell_type": "code",
   "execution_count": null,
   "id": "98ab2a6c",
   "metadata": {},
   "outputs": [],
   "source": [
    "#create a base network for snkit from the street edges and the street vertices and railways\n",
    "base_network = snkit.Network(vertices_network, edges2) "
   ]
  },
  {
   "cell_type": "code",
   "execution_count": null,
   "id": "405fc388",
   "metadata": {},
   "outputs": [],
   "source": [
    "# # Plot the edges and vertices\n",
    "ax = plt.axes()\n",
    "base_network.edges.plot(ax=ax, linewidth = 1, alpha = 0.6)\n",
    "base_network.nodes.plot(ax=ax, facecolor = 'red', markersize = 3)"
   ]
  },
  {
   "cell_type": "code",
   "execution_count": null,
   "id": "3a1d725c",
   "metadata": {},
   "outputs": [],
   "source": [
    "base_network.nodes"
   ]
  },
  {
   "cell_type": "code",
   "execution_count": null,
   "id": "6ec7d64b",
   "metadata": {},
   "outputs": [],
   "source": [
    "base_network.edges.head()"
   ]
  },
  {
   "cell_type": "code",
   "execution_count": null,
   "id": "93d92a6e",
   "metadata": {},
   "outputs": [],
   "source": [
    "#linking the stations to the network\n",
    "linked = snkit.network.link_nodes_to_nearest_edge(base_network, condition=None)\n",
    "#ignore warnings"
   ]
  },
  {
   "cell_type": "code",
   "execution_count": null,
   "id": "df8e4696",
   "metadata": {},
   "outputs": [],
   "source": [
    "# plot\n",
    "ax = plt.axes()\n",
    "linked.edges.plot(ax=ax, linewidth = 1, alpha = 0.5)\n",
    "linked.nodes.plot(ax=ax, facecolor = 'red', markersize = 3, alpha = 1)"
   ]
  },
  {
   "cell_type": "code",
   "execution_count": null,
   "id": "f52eea46",
   "metadata": {},
   "outputs": [],
   "source": [
    "#Adding in the connector edges and vertices which we left out before\n",
    "\n",
    "linked.nodes = pd.concat([linked.nodes, vertices3])\n",
    "\n",
    "linked.edges = pd.concat([linked.edges, edges3])"
   ]
  },
  {
   "cell_type": "code",
   "execution_count": null,
   "id": "bc01dea6",
   "metadata": {},
   "outputs": [],
   "source": [
    "linked.nodes"
   ]
  },
  {
   "cell_type": "code",
   "execution_count": null,
   "id": "11c94baa",
   "metadata": {},
   "outputs": [],
   "source": [
    "linked.edges"
   ]
  },
  {
   "cell_type": "code",
   "execution_count": null,
   "id": "aa4d71bd",
   "metadata": {},
   "outputs": [],
   "source": [
    "linked.edges = linked.edges[['edge_type', 'vertex_typ','source', 'target', 'geometry']]"
   ]
  },
  {
   "cell_type": "code",
   "execution_count": null,
   "id": "fe74a766",
   "metadata": {},
   "outputs": [],
   "source": [
    "linked.nodes = linked.nodes.rename(columns = {'id':'vertex_id'})"
   ]
  },
  {
   "cell_type": "code",
   "execution_count": null,
   "id": "6aecc046",
   "metadata": {},
   "outputs": [],
   "source": [
    "linked.nodes['x'] = linked.nodes['geometry'].x # x coord of column\n",
    "linked.nodes['y'] = linked.nodes['geometry'].y #y coord of column"
   ]
  },
  {
   "cell_type": "code",
   "execution_count": null,
   "id": "49b390e5",
   "metadata": {},
   "outputs": [],
   "source": [
    "# create IDs for the new vertices and edges, it renames all the ids \n",
    "with_id = snkit.network.add_topology(snkit.network.add_ids(linked))"
   ]
  },
  {
   "cell_type": "markdown",
   "id": "dc98cf4d",
   "metadata": {},
   "source": [
    "### 6. Adjusting attributes "
   ]
  },
  {
   "cell_type": "code",
   "execution_count": null,
   "id": "a5785faf",
   "metadata": {},
   "outputs": [],
   "source": [
    "with_id.edges.head()"
   ]
  },
  {
   "cell_type": "code",
   "execution_count": null,
   "id": "15d4f3bb",
   "metadata": {},
   "outputs": [],
   "source": [
    "with_id.edges = with_id.edges[['edge_type', 'vertex_typ','source', 'target', 'id','from_id','to_id','geometry']]"
   ]
  },
  {
   "cell_type": "code",
   "execution_count": null,
   "id": "2ea095dc",
   "metadata": {},
   "outputs": [],
   "source": [
    "with_id.edges['edge_type'] = with_id.edges['edge_type'].fillna('brt_connector') #could be a different connector i.e BRT connector depending on mode"
   ]
  },
  {
   "cell_type": "code",
   "execution_count": null,
   "id": "89883e3e",
   "metadata": {},
   "outputs": [],
   "source": [
    "with_id.edges['vertex_typ'] = with_id.edges['vertex_typ'].fillna('not_street')"
   ]
  },
  {
   "cell_type": "code",
   "execution_count": null,
   "id": "49a6bf64",
   "metadata": {},
   "outputs": [],
   "source": [
    "with_id.nodes"
   ]
  },
  {
   "cell_type": "code",
   "execution_count": null,
   "id": "4a4dd670",
   "metadata": {},
   "outputs": [],
   "source": [
    "with_id.nodes['vertex_typ'] = with_id.nodes['vertex_typ'].fillna('not_street')"
   ]
  },
  {
   "cell_type": "code",
   "execution_count": null,
   "id": "370e8e39",
   "metadata": {},
   "outputs": [],
   "source": [
    "with_id.nodes['land use'] = with_id.nodes['land use'].fillna('brt_connector') #could be a different connector i.e BRT connector depending on mode"
   ]
  },
  {
   "cell_type": "code",
   "execution_count": null,
   "id": "528fdf8e",
   "metadata": {},
   "outputs": [],
   "source": [
    "#Subset the dataframes"
   ]
  },
  {
   "cell_type": "code",
   "execution_count": null,
   "id": "95abe551",
   "metadata": {},
   "outputs": [],
   "source": [
    "edges = with_id.edges"
   ]
  },
  {
   "cell_type": "code",
   "execution_count": null,
   "id": "26951279",
   "metadata": {},
   "outputs": [],
   "source": [
    "vertices = with_id.nodes"
   ]
  },
  {
   "cell_type": "markdown",
   "id": "421746aa",
   "metadata": {},
   "source": [
    "create a dictionary of old vertex names of transport stops/station and new names, we do this so that the station names can replace the new vertex IDs, this is so that later on when the transportation edges are connected they are connected by the station names."
   ]
  },
  {
   "cell_type": "code",
   "execution_count": null,
   "id": "f4660173",
   "metadata": {},
   "outputs": [],
   "source": [
    "#you need to include all the different kinds of stops/stations you currently have in the network each time you run this\n",
    "subset = vertices[vertices[\"land use\"].isin([\"brt_stop\", \"railway_stop\"])] "
   ]
  },
  {
   "cell_type": "code",
   "execution_count": null,
   "id": "4346f016",
   "metadata": {},
   "outputs": [],
   "source": [
    "subset"
   ]
  },
  {
   "cell_type": "code",
   "execution_count": null,
   "id": "38e603d8",
   "metadata": {},
   "outputs": [],
   "source": [
    "my_dict = dict(zip(subset['id'], subset['vertex_id']))"
   ]
  },
  {
   "cell_type": "code",
   "execution_count": null,
   "id": "783b7ba2",
   "metadata": {},
   "outputs": [],
   "source": [
    "my_dict"
   ]
  },
  {
   "cell_type": "code",
   "execution_count": null,
   "id": "6104bfa3",
   "metadata": {},
   "outputs": [],
   "source": [
    "#transform id vertices from the automated ones to the station/stop names"
   ]
  },
  {
   "cell_type": "code",
   "execution_count": null,
   "id": "9c3bb157",
   "metadata": {},
   "outputs": [],
   "source": [
    "vertices['id'] = vertices['id'].replace(my_dict)\n",
    "edges['from_id'] = edges['from_id'].replace(my_dict)\n",
    "edges['to_id'] = edges['to_id'].replace(my_dict)"
   ]
  },
  {
   "cell_type": "code",
   "execution_count": null,
   "id": "5d771d6d",
   "metadata": {},
   "outputs": [],
   "source": [
    "# get rid of source, target and vertex_id"
   ]
  },
  {
   "cell_type": "code",
   "execution_count": null,
   "id": "fe5310a6",
   "metadata": {},
   "outputs": [],
   "source": [
    "edges = edges.drop(['source', 'target'], axis =1)"
   ]
  },
  {
   "cell_type": "code",
   "execution_count": null,
   "id": "639509ab",
   "metadata": {},
   "outputs": [],
   "source": [
    "edges "
   ]
  },
  {
   "cell_type": "code",
   "execution_count": null,
   "id": "13e549bf",
   "metadata": {},
   "outputs": [],
   "source": [
    "vertices"
   ]
  },
  {
   "cell_type": "code",
   "execution_count": null,
   "id": "8a4aaede",
   "metadata": {},
   "outputs": [],
   "source": [
    "vertices = vertices.drop(['vertex_id'], axis =1)"
   ]
  },
  {
   "cell_type": "markdown",
   "id": "bd37dd6a",
   "metadata": {},
   "source": [
    "### 7. Saving the files to shp"
   ]
  },
  {
   "cell_type": "code",
   "execution_count": null,
   "id": "25bd1a21",
   "metadata": {},
   "outputs": [],
   "source": [
    "path3 = \"\""
   ]
  },
  {
   "cell_type": "code",
   "execution_count": null,
   "id": "fda6187d",
   "metadata": {},
   "outputs": [],
   "source": [
    "os.chdir(path3)\n",
    "for file in glob.glob(\"*\"):\n",
    "    print(file)"
   ]
  },
  {
   "cell_type": "code",
   "execution_count": null,
   "id": "16644359",
   "metadata": {},
   "outputs": [],
   "source": [
    "edges.to_file('edges_b')"
   ]
  },
  {
   "cell_type": "code",
   "execution_count": null,
   "id": "76691fea",
   "metadata": {},
   "outputs": [],
   "source": [
    "vertices.to_file('vertices_b')"
   ]
  }
 ],
 "metadata": {
  "kernelspec": {
   "display_name": "Python 3 (ipykernel)",
   "language": "python",
   "name": "python3"
  },
  "language_info": {
   "codemirror_mode": {
    "name": "ipython",
    "version": 3
   },
   "file_extension": ".py",
   "mimetype": "text/x-python",
   "name": "python",
   "nbconvert_exporter": "python",
   "pygments_lexer": "ipython3",
   "version": "3.9.12"
  }
 },
 "nbformat": 4,
 "nbformat_minor": 5
}
